{
 "cells": [
  {
   "cell_type": "code",
   "execution_count": 19,
   "metadata": {},
   "outputs": [
    {
     "data": {
      "text/plain": [
       "PosixPath('/Users/ruathar/Developer/hr_base_qa/data/resumes_json')"
      ]
     },
     "execution_count": 19,
     "metadata": {},
     "output_type": "execute_result"
    }
   ],
   "source": [
    "import json\n",
    "import logging\n",
    "import os\n",
    "import sys\n",
    "from pathlib import Path\n",
    "\n",
    "import psycopg2\n",
    "from dotenv import load_dotenv\n",
    "\n",
    "\n",
    "load_dotenv()\n",
    "\n",
    "\n",
    "logging.basicConfig(level=logging.INFO, format=\"%(asctime)s [%(levelname)s] %(message)s\")\n",
    "logger = logging.getLogger(__name__)\n",
    "\n",
    "JSONS_DIR = Path.cwd() / \"data\" / \"resumes_json\"\n",
    "if not JSONS_DIR.exists():\n",
    "    logger.error(f\"Directory not found: {JSONS_DIR}\")\n",
    "    sys.exit(1)\n",
    "JSONS_DIR"
   ]
  },
  {
   "cell_type": "code",
   "execution_count": 26,
   "metadata": {},
   "outputs": [
    {
     "name": "stderr",
     "output_type": "stream",
     "text": [
      "2025-04-13 22:58:21,967 [INFO] Found 285 JSON file(s) to insert.\n",
      "2025-04-13 22:58:22,335 [INFO] Inserted 285 resumes.\n",
      "2025-04-13 22:58:22,335 [INFO] Database connection closed.\n"
     ]
    }
   ],
   "source": [
    "json_files = list(JSONS_DIR.glob(\"*.json\"))\n",
    "if not json_files:\n",
    "    logger.warning(f\"No JSON files found in {JSONS_DIR}\")\n",
    "    sys.exit(1)\n",
    "else:\n",
    "    logger.info(f\"Found {len(json_files)} JSON file(s) to insert.\")\n",
    "\n",
    "\n",
    "conn = psycopg2.connect(\n",
    "    host=\"127.0.0.1\",\n",
    "    port=5432,\n",
    "    database=os.environ[\"POSTGRES_DB\"],\n",
    "    user=os.environ[\"POSTGRES_USER\"],\n",
    "    password=os.environ[\"POSTGRES_PASSWORD\"],\n",
    ")\n",
    "\n",
    "insert_query = \"\"\"\n",
    "INSERT INTO resumes (\n",
    "    name, gender, title, summary, contact_info,\n",
    "    skills, experience, education,\n",
    "    languages, certifications, hobbies, portfolio\n",
    ")\n",
    "VALUES (%s, %s, %s, %s, %s, %s, %s, %s, %s, %s, %s, %s)\n",
    "\"\"\"\n",
    "\n",
    "cursor = conn.cursor()\n",
    "inserted_count = 0\n",
    "\n",
    "for filepath in json_files:\n",
    "    try:\n",
    "        with filepath.open(\"r\", encoding=\"utf-8\") as f:\n",
    "            resume = json.load(f)\n",
    "        name = resume.get(\"name\")\n",
    "        cursor.execute(\n",
    "            insert_query,\n",
    "            (\n",
    "                name,\n",
    "                resume.get(\"gender\"),\n",
    "                resume.get(\"title\"),\n",
    "                resume.get(\"summary\"),\n",
    "                json.dumps(resume.get(\"contact_info\")),\n",
    "                resume.get(\"skills\"),\n",
    "                json.dumps(resume.get(\"experience\")),\n",
    "                json.dumps(resume.get(\"education\")),\n",
    "                resume.get(\"languages\"),\n",
    "                resume.get(\"certifications\"),\n",
    "                resume.get(\"hobbies\"),\n",
    "                json.dumps(resume.get(\"portfolio\")),\n",
    "            ),\n",
    "        )\n",
    "        logger.debug(f\"Inserted resume '{name}' from '{filepath.name}'\")\n",
    "        inserted_count += 1\n",
    "    except json.JSONDecodeError:\n",
    "        logger.exception(f\"Error decoding JSON in {filepath.name}\")\n",
    "    except Exception:\n",
    "        conn.rollback()\n",
    "        logger.exception(f\"Error processing {filepath.name}\")\n",
    "\n",
    "conn.commit()\n",
    "logger.info(f\"Inserted {inserted_count} resumes.\")\n",
    "\n",
    "cursor.close()\n",
    "conn.close()\n",
    "logger.info(\"Database connection closed.\")\n"
   ]
  }
 ],
 "metadata": {
  "kernelspec": {
   "display_name": ".venv",
   "language": "python",
   "name": "python3"
  },
  "language_info": {
   "codemirror_mode": {
    "name": "ipython",
    "version": 3
   },
   "file_extension": ".py",
   "mimetype": "text/x-python",
   "name": "python",
   "nbconvert_exporter": "python",
   "pygments_lexer": "ipython3",
   "version": "3.13.1"
  }
 },
 "nbformat": 4,
 "nbformat_minor": 2
}
