{
 "cells": [
  {
   "cell_type": "code",
   "execution_count": 20,
   "metadata": {},
   "outputs": [],
   "source": [
    "import json\n",
    "import logging\n",
    "import os\n",
    "import sqlite3\n",
    "import time\n",
    "from pathlib import Path\n",
    "\n",
    "import openai\n",
    "import pandas as pd\n",
    "from dotenv import load_dotenv\n",
    "from pydantic import BaseModel, Field\n",
    "from tqdm import tqdm\n",
    "\n",
    "\n",
    "load_dotenv()\n",
    "\n",
    "logging.basicConfig(\n",
    "    level=logging.INFO,\n",
    "    format=\"%(asctime)s [%(levelname)s] %(message)s\",\n",
    "    handlers=[logging.StreamHandler()],\n",
    ")\n",
    "logger = logging.getLogger(__name__)\n",
    "openai._utils._logs.logger.setLevel(logging.WARNING)  # noqa: SLF001\n",
    "openai._utils._logs.httpx_logger.setLevel(logging.WARNING)  # noqa: SLF001"
   ]
  },
  {
   "cell_type": "code",
   "execution_count": 10,
   "metadata": {},
   "outputs": [
    {
     "name": "stdout",
     "output_type": "stream",
     "text": [
      "Dataset URL: https://www.kaggle.com/datasets/jeromeblanchet/yale-universitys-spider-10-nlp-dataset\n",
      "License(s): unknown\n",
      "Downloading yale-universitys-spider-10-nlp-dataset.zip to /Users/ruathar/Developer/qa_agentic_rag/data\n",
      "  0%|                                               | 0.00/96.0M [00:00<?, ?B/s]\n",
      "100%|██████████████████████████████████████| 96.0M/96.0M [00:00<00:00, 3.66GB/s]\n"
     ]
    }
   ],
   "source": [
    "download_path = Path.cwd() / \"data\"\n",
    "!kaggle datasets download -d jeromeblanchet/yale-universitys-spider-10-nlp-dataset -p \"{download_path}\" --unzip"
   ]
  },
  {
   "cell_type": "code",
   "execution_count": 3,
   "metadata": {},
   "outputs": [],
   "source": [
    "spider_path = Path(\"data/spider\")\n",
    "\n",
    "with (spider_path / \"tables.json\").open() as f:\n",
    "    tables = json.load(f)\n",
    "\n",
    "with (spider_path / \"dev.json\").open() as f:\n",
    "    dev_examples = json.load(f)\n",
    "\n",
    "with (spider_path / \"dev_gold.sql\").open() as f:\n",
    "    gold_sql = f.readlines()\n",
    "\n",
    "db_schemas = {table[\"db_id\"]: table for table in tables}"
   ]
  },
  {
   "cell_type": "code",
   "execution_count": 4,
   "metadata": {},
   "outputs": [
    {
     "data": {
      "text/plain": [
       "'Hello! How can I assist you today? Feel free to ask me any questions or let me know if you need help with something specific.'"
      ]
     },
     "execution_count": 4,
     "metadata": {},
     "output_type": "execute_result"
    }
   ],
   "source": [
    "llm_api_url = os.getenv(\"LLM_API_URL\")\n",
    "api_key = os.getenv(\"LLM_API_TOKEN\")\n",
    "llm_model = os.getenv(\"LLM_API_MODEL\")\n",
    "client = openai.Client(base_url=llm_api_url, api_key=api_key)\n",
    "\n",
    "\n",
    "client.chat.completions.create(\n",
    "    messages=[\n",
    "        {\n",
    "            \"role\": \"user\",\n",
    "            \"content\": \"Hi!\",\n",
    "        }\n",
    "    ],\n",
    "    model=llm_model,\n",
    ").choices[0].message.content"
   ]
  },
  {
   "cell_type": "code",
   "execution_count": 5,
   "metadata": {},
   "outputs": [],
   "source": [
    "class SqlQuery(BaseModel):\n",
    "    reasoning: str = Field(..., description=\"Напиши свои мысли, как ты формируешь sql запрос\")\n",
    "    sql_query: str | None\n",
    "\n",
    "\n",
    "def get_db_schema(db_id: str) -> str:\n",
    "    schema = db_schemas[db_id]\n",
    "    table_names = schema[\"table_names_original\"]\n",
    "    column_data = schema[\"column_names_original\"]\n",
    "\n",
    "    table_columns = {table: [] for table in table_names}\n",
    "\n",
    "    for table_idx, col_name in column_data:\n",
    "        if table_idx == -1 or col_name == \"*\":\n",
    "            continue\n",
    "        table_name = table_names[table_idx]\n",
    "        table_columns[table_name].append(col_name)\n",
    "\n",
    "    result_lines = [f\"Схема базы данных: {db_id}\\n\"]\n",
    "    for table, columns in table_columns.items():\n",
    "        result_lines.extend([f\"Таблица: {table}\", \"Столбцы:\", *[f\"- {col}\" for col in columns], \"\"])\n",
    "\n",
    "    return \"\\n\".join(result_lines)\n",
    "\n",
    "\n",
    "def generate_sql(db_id: str, question: str, client: openai.Client, model: str) -> str:\n",
    "    full_schema = get_db_schema(db_id)\n",
    "\n",
    "    system_prompt = (\n",
    "        \"Ты — AI-ассистент, генерирующий SQL-запросы на основе пользовательских запросов.\\n\"\n",
    "        \"Ниже — схема базы данных:\\n\\n\"\n",
    "        f\"{full_schema}\\n\\n\"\n",
    "        \"1) Проанализируй запрос.\\n\"\n",
    "        \"2) Опиши reasoning.\\n\"\n",
    "        \"3) Cгенерируй корректный SELECT и верни его в поле sql_query.\\n\"\n",
    "        \"4) Оптимизируй запрос для минимальной нагрузки на БД.\"\n",
    "    )\n",
    "\n",
    "    user_prompt = f\"Запрос пользователя: {question}\"\n",
    "\n",
    "    response = client.beta.chat.completions.parse(\n",
    "        model=model,\n",
    "        temperature=0.25,\n",
    "        messages=[{\"role\": \"system\", \"content\": system_prompt}, {\"role\": \"user\", \"content\": user_prompt}],\n",
    "        response_format=SqlQuery,\n",
    "    )\n",
    "\n",
    "    return response.choices[0].message.parsed.sql_query\n",
    "\n",
    "\n",
    "def execute_sql(db_id: str, sql: str) -> str | None:\n",
    "    db_path = spider_path / f\"database/{db_id}/{db_id}.sqlite\"\n",
    "    conn = sqlite3.connect(db_path)\n",
    "    cursor = conn.cursor()\n",
    "    try:\n",
    "        cursor.execute(sql)\n",
    "        result = cursor.fetchall()\n",
    "    except Exception:\n",
    "        logger.exception(\"Error executing SQL:\")\n",
    "        return None\n",
    "    finally:\n",
    "        conn.close()\n",
    "    return result\n"
   ]
  },
  {
   "cell_type": "code",
   "execution_count": 6,
   "metadata": {},
   "outputs": [
    {
     "name": "stdout",
     "output_type": "stream",
     "text": [
      "Вопрос:  How many singers do we have?\n",
      "Сгенерированный SQL: SELECT COUNT(DISTINCT Singer_ID) AS NumberOfSingers FROM singer;\n",
      "Эталонный (gold) SQL:  SELECT count(*) FROM singer\n"
     ]
    }
   ],
   "source": [
    "example = dev_examples[0]\n",
    "\n",
    "print(\"Вопрос: \", example[\"question\"])\n",
    "print(\"Сгенерированный SQL:\", generate_sql(example[\"db_id\"], example[\"question\"], client=client, model=llm_model))\n",
    "print(\"Эталонный (gold) SQL: \", gold_sql[0].split(\"\\t\")[0])"
   ]
  },
  {
   "cell_type": "code",
   "execution_count": 7,
   "metadata": {},
   "outputs": [
    {
     "name": "stdout",
     "output_type": "stream",
     "text": [
      "Execution Accuracy: Correct\n"
     ]
    }
   ],
   "source": [
    "def compare_execution(generated_result: list, gold_result: list) -> bool:\n",
    "    return generated_result == gold_result\n",
    "\n",
    "\n",
    "gold_example = gold_sql[0].strip().split(\"\\t\")\n",
    "gold_sql_query = gold_example[0]\n",
    "gold_db_id = gold_example[1]\n",
    "gold_execution_result = execute_sql(gold_db_id, gold_sql_query)\n",
    "generation_result = generate_sql(example[\"db_id\"], example[\"question\"], client, \"qwen2.5:7b\")\n",
    "execution_result = execute_sql(example[\"db_id\"], generation_result)\n",
    "\n",
    "if gold_execution_result:\n",
    "    print(f\"Execution Accuracy: {'Correct' if compare_execution(execution_result, gold_execution_result) else 'Incorrect'}\")\n",
    "else:\n",
    "    print(\"Error: Unable to execute gold SQL query.\")"
   ]
  },
  {
   "cell_type": "code",
   "execution_count": 21,
   "metadata": {},
   "outputs": [],
   "source": [
    "def evaluate_execution_accuracy(\n",
    "    examples: list[dict],\n",
    "    client: openai.Client,\n",
    "    model_name: str,\n",
    "    num_questions: int,\n",
    ") -> tuple[float, float]:\n",
    "    correct = 0\n",
    "    total = 0\n",
    "    total_response_time = 0.0\n",
    "    response_count = 0\n",
    "\n",
    "    for i, ex in enumerate(tqdm(examples[:num_questions], desc=f\"Evaluating {model_name}\")):\n",
    "        question = ex[\"question\"]\n",
    "        db_id = ex[\"db_id\"]\n",
    "        gold_sql_query = ex[\"query\"]\n",
    "\n",
    "        gold_result = execute_sql(db_id, gold_sql_query)\n",
    "        if isinstance(gold_result, str) and gold_result.startswith(\"Error\"):\n",
    "            logger.warning(f\"[{i}] ⚠️ Ошибка в gold SQL: {gold_result}\")\n",
    "            continue\n",
    "\n",
    "        try:\n",
    "            start_time = time.perf_counter()\n",
    "            generated_sql = generate_sql(db_id, question, client, model_name)\n",
    "            elapsed = time.perf_counter() - start_time\n",
    "\n",
    "            total_response_time += elapsed\n",
    "            response_count += 1\n",
    "\n",
    "            generated_result = execute_sql(db_id, generated_sql)\n",
    "        except Exception:\n",
    "            logger.exception(f\"[{i}] ❌ Ошибка генерации или выполнения SQL\")\n",
    "            continue\n",
    "\n",
    "        if isinstance(generated_result, str) and generated_result.startswith(\"Error\"):\n",
    "            logger.warning(f\"[{i}] ⚠️ Ошибка выполнения сгенерированного SQL: {generated_result}\")\n",
    "            continue\n",
    "\n",
    "        if compare_execution(generated_result, gold_result):\n",
    "            correct += 1\n",
    "            logger.info(f\"[{i}] ✅ Корректно\")\n",
    "        else:\n",
    "            logger.info(f\"[{i}] ❌ Некорректно\")\n",
    "\n",
    "        total += 1\n",
    "\n",
    "    accuracy = correct / total if total else 0.0\n",
    "    avg_latency = total_response_time / response_count if response_count else 0.0\n",
    "\n",
    "    logger.info(f\"✅ Execution Accuracy: {accuracy:.2%}\")\n",
    "    logger.info(f\"⏱️ Среднее время ответа: {avg_latency:.2f} сек\")\n",
    "\n",
    "    return accuracy, avg_latency\n",
    "\n",
    "\n",
    "def get_openai_client(model_name: str) -> tuple[openai.Client, str]:\n",
    "    if model_name.startswith(\"gpt\"):\n",
    "        base_url = os.getenv(\"LLM_API_URL_OPENAI\")\n",
    "        api_key = os.getenv(\"LLM_API_TOKEN_OPENAI\")\n",
    "        model = model_name\n",
    "    else:\n",
    "        base_url = os.getenv(\"LLM_API_URL\")\n",
    "        api_key = os.getenv(\"LLM_API_TOKEN\")\n",
    "        model = model_name\n",
    "\n",
    "    client = openai.Client(base_url=base_url, api_key=api_key)\n",
    "    return client, model\n",
    "\n",
    "\n",
    "def benchmark_models_on_spider(models: list[str], examples: list[dict], num_questions: int = 100) -> pd.DataFrame:\n",
    "    results = []\n",
    "\n",
    "    for model_name in models:\n",
    "        try:\n",
    "            logger.info(f\"🚀 Запуск модели: {model_name}\")\n",
    "            client, model_id = get_openai_client(model_name)\n",
    "\n",
    "            acc, avg_latency = evaluate_execution_accuracy(\n",
    "                examples=examples, client=client, model_name=model_id, num_questions=num_questions\n",
    "            )\n",
    "\n",
    "            results.append({\"model\": model_name, \"execution_accuracy\": acc, \"avg_latency_sec\": avg_latency})\n",
    "\n",
    "        except Exception:\n",
    "            logger.exception(f\"❌ Model {model_name} failed\")\n",
    "            results.append({\"model\": model_name, \"execution_accuracy\": None, \"avg_latency_sec\": None})\n",
    "\n",
    "    return pd.DataFrame(results)"
   ]
  },
  {
   "cell_type": "code",
   "execution_count": 23,
   "metadata": {},
   "outputs": [
    {
     "data": {
      "text/plain": [
       "1034"
      ]
     },
     "execution_count": 23,
     "metadata": {},
     "output_type": "execute_result"
    }
   ],
   "source": [
    "len(dev_examples)"
   ]
  },
  {
   "cell_type": "code",
   "execution_count": 19,
   "metadata": {},
   "outputs": [
    {
     "name": "stderr",
     "output_type": "stream",
     "text": [
      "Evaluating Execution Accuracy:   0%|          | 0/1000 [00:00<?, ?it/s]"
     ]
    },
    {
     "name": "stderr",
     "output_type": "stream",
     "text": [
      "2025-05-15 02:34:53,440 [INFO] [0] ✅ Корректно\n",
      "Evaluating Execution Accuracy:   0%|          | 1/1000 [00:02<34:06,  2.05s/it]2025-05-15 02:34:55,204 [INFO] [1] ✅ Корректно\n",
      "Evaluating Execution Accuracy:   0%|          | 2/1000 [00:03<31:17,  1.88s/it]2025-05-15 02:34:57,906 [INFO] [2] ✅ Корректно\n",
      "Evaluating Execution Accuracy:   0%|          | 3/1000 [00:06<37:29,  2.26s/it]2025-05-15 02:35:00,256 [INFO] [3] ✅ Корректно\n",
      "Evaluating Execution Accuracy:   0%|          | 4/1000 [00:08<38:04,  2.29s/it]2025-05-15 02:35:03,479 [INFO] [4] ✅ Корректно\n",
      "Evaluating Execution Accuracy:   0%|          | 5/1000 [00:12<43:35,  2.63s/it]2025-05-15 02:35:06,632 [INFO] [5] ✅ Корректно\n",
      "Evaluating Execution Accuracy:   1%|          | 6/1000 [00:15<46:30,  2.81s/it]2025-05-15 02:35:10,033 [INFO] [6] ❌ Некорректно\n",
      "Evaluating Execution Accuracy:   1%|          | 7/1000 [00:18<49:40,  3.00s/it]2025-05-15 02:35:14,084 [INFO] [7] ❌ Некорректно\n",
      "Evaluating Execution Accuracy:   1%|          | 8/1000 [00:22<55:08,  3.34s/it]2025-05-15 02:35:16,704 [INFO] [8] ✅ Корректно\n",
      "Evaluating Execution Accuracy:   1%|          | 9/1000 [00:25<51:23,  3.11s/it]2025-05-15 02:35:18,878 [INFO] [9] ✅ Корректно\n",
      "Evaluating Execution Accuracy:   1%|          | 10/1000 [00:27<46:33,  2.82s/it]2025-05-15 02:35:21,328 [INFO] [10] ✅ Корректно\n",
      "Evaluating Execution Accuracy:   1%|          | 11/1000 [00:29<44:38,  2.71s/it]2025-05-15 02:35:23,478 [INFO] [11] ✅ Корректно\n",
      "Evaluating Execution Accuracy:   1%|          | 12/1000 [00:32<41:47,  2.54s/it]2025-05-15 02:35:29,624 [INFO] [12] ❌ Некорректно\n",
      "Evaluating Execution Accuracy:   1%|▏         | 13/1000 [00:38<59:44,  3.63s/it]2025-05-15 02:35:33,952 [INFO] [13] ❌ Некорректно\n",
      "Evaluating Execution Accuracy:   1%|▏         | 14/1000 [00:42<1:03:07,  3.84s/it]2025-05-15 02:35:36,733 [INFO] [14] ✅ Корректно\n",
      "Evaluating Execution Accuracy:   2%|▏         | 15/1000 [00:45<57:49,  3.52s/it]  2025-05-15 02:35:39,276 [INFO] [15] ✅ Корректно\n",
      "Evaluating Execution Accuracy:   2%|▏         | 16/1000 [00:47<52:55,  3.23s/it]2025-05-15 02:35:41,718 [INFO] [16] ✅ Корректно\n",
      "Evaluating Execution Accuracy:   2%|▏         | 17/1000 [00:50<49:00,  2.99s/it]2025-05-15 02:35:44,096 [INFO] [17] ✅ Корректно\n",
      "Evaluating Execution Accuracy:   2%|▏         | 18/1000 [00:52<45:56,  2.81s/it]2025-05-15 02:35:47,520 [INFO] [18] ✅ Корректно\n",
      "Evaluating Execution Accuracy:   2%|▏         | 19/1000 [00:56<48:55,  2.99s/it]2025-05-15 02:35:50,844 [INFO] [19] ✅ Корректно\n",
      "Evaluating Execution Accuracy:   2%|▏         | 20/1000 [00:59<50:29,  3.09s/it]2025-05-15 02:35:53,333 [INFO] [20] ✅ Корректно\n",
      "Evaluating Execution Accuracy:   2%|▏         | 21/1000 [01:01<47:29,  2.91s/it]2025-05-15 02:35:55,917 [INFO] [21] ✅ Корректно\n",
      "Evaluating Execution Accuracy:   2%|▏         | 22/1000 [01:04<45:51,  2.81s/it]2025-05-15 02:35:59,581 [INFO] [22] ❌ Некорректно\n",
      "Evaluating Execution Accuracy:   2%|▏         | 23/1000 [01:08<49:57,  3.07s/it]2025-05-15 02:36:03,415 [INFO] [23] ❌ Некорректно\n",
      "Evaluating Execution Accuracy:   2%|▏         | 24/1000 [01:12<53:38,  3.30s/it]2025-05-15 02:36:08,269 [INFO] [24] ❌ Некорректно\n",
      "Evaluating Execution Accuracy:   2%|▎         | 25/1000 [01:16<1:01:10,  3.76s/it]2025-05-15 02:36:14,238 [INFO] [25] ✅ Корректно\n",
      "Evaluating Execution Accuracy:   3%|▎         | 26/1000 [01:22<1:11:51,  4.43s/it]2025-05-15 02:36:16,143 [INFO] [26] ❌ Некорректно\n",
      "Evaluating Execution Accuracy:   3%|▎         | 27/1000 [01:24<59:30,  3.67s/it]  2025-05-15 02:36:17,835 [INFO] [27] ✅ Корректно\n",
      "Evaluating Execution Accuracy:   3%|▎         | 28/1000 [01:26<49:49,  3.08s/it]2025-05-15 02:36:21,113 [ERROR] Error executing SQL:\n",
      "Traceback (most recent call last):\n",
      "  File \"/var/folders/gn/2rl2yrpd6kd1xyntb037l6s1ymb2cb/T/ipykernel_2296/3378380415.py\", line 56, in execute_sql\n",
      "    cursor.execute(sql)\n",
      "    ~~~~~~~~~~~~~~^^^^^\n",
      "sqlite3.OperationalError: no such column: sic.Stadium_ID\n",
      "2025-05-15 02:36:21,115 [INFO] [28] ❌ Некорректно\n",
      "Evaluating Execution Accuracy:   3%|▎         | 29/1000 [01:29<50:46,  3.14s/it]2025-05-15 02:36:24,529 [INFO] [29] ❌ Некорректно\n",
      "Evaluating Execution Accuracy:   3%|▎         | 30/1000 [01:33<52:03,  3.22s/it]2025-05-15 02:36:30,097 [INFO] [30] ❌ Некорректно\n",
      "Evaluating Execution Accuracy:   3%|▎         | 31/1000 [01:38<1:03:22,  3.92s/it]2025-05-15 02:36:35,574 [INFO] [31] ❌ Некорректно\n",
      "Evaluating Execution Accuracy:   3%|▎         | 32/1000 [01:44<1:10:49,  4.39s/it]2025-05-15 02:36:38,826 [INFO] [32] ❌ Некорректно\n",
      "Evaluating Execution Accuracy:   3%|▎         | 33/1000 [01:47<1:05:15,  4.05s/it]2025-05-15 02:36:41,726 [ERROR] Error executing SQL:\n",
      "Traceback (most recent call last):\n",
      "  File \"/var/folders/gn/2rl2yrpd6kd1xyntb037l6s1ymb2cb/T/ipykernel_2296/3378380415.py\", line 56, in execute_sql\n",
      "    cursor.execute(sql)\n",
      "    ~~~~~~~~~~~~~~^^^^^\n",
      "sqlite3.OperationalError: no such column: c.concert_Name\n",
      "2025-05-15 02:36:41,728 [INFO] [33] ❌ Некорректно\n",
      "Evaluating Execution Accuracy:   3%|▎         | 34/1000 [01:50<59:38,  3.70s/it]  2025-05-15 02:36:44,897 [INFO] [34] ❌ Некорректно\n",
      "Evaluating Execution Accuracy:   4%|▎         | 35/1000 [01:53<57:00,  3.54s/it]2025-05-15 02:36:48,324 [INFO] [35] ❌ Некорректно\n",
      "Evaluating Execution Accuracy:   4%|▎         | 36/1000 [01:56<56:22,  3.51s/it]2025-05-15 02:36:51,697 [INFO] [36] ❌ Некорректно\n",
      "Evaluating Execution Accuracy:   4%|▎         | 37/1000 [02:00<55:39,  3.47s/it]2025-05-15 02:36:55,577 [INFO] [37] ✅ Корректно\n",
      "Evaluating Execution Accuracy:   4%|▍         | 38/1000 [02:04<57:35,  3.59s/it]2025-05-15 02:36:59,844 [INFO] [38] ✅ Корректно\n",
      "Evaluating Execution Accuracy:   4%|▍         | 39/1000 [02:08<1:00:46,  3.79s/it]2025-05-15 02:37:01,988 [INFO] [39] ✅ Корректно\n",
      "Evaluating Execution Accuracy:   4%|▍         | 40/1000 [02:10<52:47,  3.30s/it]  2025-05-15 02:37:05,671 [INFO] [40] ❌ Некорректно\n",
      "Evaluating Execution Accuracy:   4%|▍         | 41/1000 [02:14<54:34,  3.41s/it]2025-05-15 02:37:09,339 [INFO] [41] ❌ Некорректно\n",
      "Evaluating Execution Accuracy:   4%|▍         | 42/1000 [02:17<55:43,  3.49s/it]2025-05-15 02:37:13,693 [INFO] [42] ✅ Корректно\n",
      "Evaluating Execution Accuracy:   4%|▍         | 43/1000 [02:22<59:48,  3.75s/it]2025-05-15 02:37:17,598 [INFO] [43] ❌ Некорректно\n",
      "Evaluating Execution Accuracy:   4%|▍         | 44/1000 [02:26<1:00:29,  3.80s/it]2025-05-15 02:37:21,226 [INFO] [44] ❌ Некорректно\n",
      "Evaluating Execution Accuracy:   4%|▍         | 45/1000 [02:29<59:37,  3.75s/it]  2025-05-15 02:37:24,332 [INFO] [45] ✅ Корректно\n",
      "Evaluating Execution Accuracy:   5%|▍         | 46/1000 [02:32<56:30,  3.55s/it]2025-05-15 02:37:26,784 [INFO] [46] ✅ Корректно\n",
      "Evaluating Execution Accuracy:   5%|▍         | 47/1000 [02:35<51:11,  3.22s/it]2025-05-15 02:37:30,755 [INFO] [47] ✅ Корректно\n",
      "Evaluating Execution Accuracy:   5%|▍         | 48/1000 [02:39<54:42,  3.45s/it]2025-05-15 02:37:34,212 [ERROR] Error executing SQL:\n",
      "Traceback (most recent call last):\n",
      "  File \"/var/folders/gn/2rl2yrpd6kd1xyntb037l6s1ymb2cb/T/ipykernel_2296/3378380415.py\", line 56, in execute_sql\n",
      "    cursor.execute(sql)\n",
      "    ~~~~~~~~~~~~~~^^^^^\n",
      "sqlite3.OperationalError: ambiguous column name: PetID\n",
      "2025-05-15 02:37:34,214 [INFO] [48] ❌ Некорректно\n",
      "Evaluating Execution Accuracy:   5%|▍         | 49/1000 [02:42<54:41,  3.45s/it]2025-05-15 02:37:36,292 [INFO] [49] ❌ Некорректно\n",
      "Evaluating Execution Accuracy:   5%|▌         | 50/1000 [02:44<48:06,  3.04s/it]2025-05-15 02:37:39,109 [INFO] [50] ❌ Некорректно\n",
      "Evaluating Execution Accuracy:   5%|▌         | 51/1000 [02:47<47:00,  2.97s/it]2025-05-15 02:37:43,040 [INFO] [51] ✅ Корректно\n",
      "Evaluating Execution Accuracy:   5%|▌         | 52/1000 [02:51<51:30,  3.26s/it]2025-05-15 02:37:47,193 [INFO] [52] ✅ Корректно\n",
      "Evaluating Execution Accuracy:   5%|▌         | 53/1000 [02:59<53:28,  3.39s/it]\n"
     ]
    },
    {
     "ename": "KeyboardInterrupt",
     "evalue": "",
     "output_type": "error",
     "traceback": [
      "\u001b[31m---------------------------------------------------------------------------\u001b[39m",
      "\u001b[31mKeyboardInterrupt\u001b[39m                         Traceback (most recent call last)",
      "\u001b[36mCell\u001b[39m\u001b[36m \u001b[39m\u001b[32mIn[19]\u001b[39m\u001b[32m, line 3\u001b[39m\n\u001b[32m      1\u001b[39m models_to_test = [\u001b[33m\"\u001b[39m\u001b[33mqwen2.5:7b\u001b[39m\u001b[33m\"\u001b[39m, \u001b[33m\"\u001b[39m\u001b[33mqwen2.5-coder:7b\u001b[39m\u001b[33m\"\u001b[39m, \u001b[33m\"\u001b[39m\u001b[33mgemma3:12b\u001b[39m\u001b[33m\"\u001b[39m]\n\u001b[32m----> \u001b[39m\u001b[32m3\u001b[39m df_results = \u001b[43mbenchmark_models_on_spider\u001b[49m\u001b[43m(\u001b[49m\u001b[43mmodels_to_test\u001b[49m\u001b[43m,\u001b[49m\u001b[43m \u001b[49m\u001b[43mdev_examples\u001b[49m\u001b[43m,\u001b[49m\u001b[43m \u001b[49m\u001b[43mnum_questions\u001b[49m\u001b[43m=\u001b[49m\u001b[32;43m1000\u001b[39;49m\u001b[43m)\u001b[49m\n\u001b[32m      4\u001b[39m df_results.to_csv(\u001b[33m\"\u001b[39m\u001b[33mdata/evaluation_results.csv\u001b[39m\u001b[33m\"\u001b[39m, index=\u001b[38;5;28;01mNone\u001b[39;00m)\n",
      "\u001b[36mCell\u001b[39m\u001b[36m \u001b[39m\u001b[32mIn[13]\u001b[39m\u001b[32m, line 63\u001b[39m, in \u001b[36mbenchmark_models_on_spider\u001b[39m\u001b[34m(models, examples, num_questions)\u001b[39m\n\u001b[32m     61\u001b[39m \u001b[38;5;28;01mtry\u001b[39;00m:\n\u001b[32m     62\u001b[39m     client, model_id = get_openai_client(model_name)\n\u001b[32m---> \u001b[39m\u001b[32m63\u001b[39m     acc = \u001b[43mevaluate_execution_accuracy\u001b[49m\u001b[43m(\u001b[49m\u001b[43mexamples\u001b[49m\u001b[43m,\u001b[49m\u001b[43m \u001b[49m\u001b[43mclient\u001b[49m\u001b[43m=\u001b[49m\u001b[43mclient\u001b[49m\u001b[43m,\u001b[49m\u001b[43m \u001b[49m\u001b[43mmodel_name\u001b[49m\u001b[43m=\u001b[49m\u001b[43mmodel_id\u001b[49m\u001b[43m,\u001b[49m\u001b[43m \u001b[49m\u001b[43mnum_questions\u001b[49m\u001b[43m=\u001b[49m\u001b[43mnum_questions\u001b[49m\u001b[43m)\u001b[49m\n\u001b[32m     64\u001b[39m     results.append({\u001b[33m\"\u001b[39m\u001b[33mmodel\u001b[39m\u001b[33m\"\u001b[39m: model_name, \u001b[33m\"\u001b[39m\u001b[33mexecution_accuracy\u001b[39m\u001b[33m\"\u001b[39m: acc})\n\u001b[32m     65\u001b[39m \u001b[38;5;28;01mexcept\u001b[39;00m \u001b[38;5;167;01mException\u001b[39;00m:\n",
      "\u001b[36mCell\u001b[39m\u001b[36m \u001b[39m\u001b[32mIn[13]\u001b[39m\u001b[32m, line 21\u001b[39m, in \u001b[36mevaluate_execution_accuracy\u001b[39m\u001b[34m(examples, client, model_name, num_questions)\u001b[39m\n\u001b[32m     18\u001b[39m     \u001b[38;5;28;01mcontinue\u001b[39;00m\n\u001b[32m     20\u001b[39m \u001b[38;5;28;01mtry\u001b[39;00m:\n\u001b[32m---> \u001b[39m\u001b[32m21\u001b[39m     generated_sql = \u001b[43mgenerate_sql\u001b[49m\u001b[43m(\u001b[49m\u001b[43mdb_id\u001b[49m\u001b[43m,\u001b[49m\u001b[43m \u001b[49m\u001b[43mquestion\u001b[49m\u001b[43m,\u001b[49m\u001b[43m \u001b[49m\u001b[43mclient\u001b[49m\u001b[43m,\u001b[49m\u001b[43m \u001b[49m\u001b[43mmodel_name\u001b[49m\u001b[43m)\u001b[49m\n\u001b[32m     22\u001b[39m     generated_result = execute_sql(db_id, generated_sql)\n\u001b[32m     23\u001b[39m \u001b[38;5;28;01mexcept\u001b[39;00m \u001b[38;5;167;01mException\u001b[39;00m:\n",
      "\u001b[36mCell\u001b[39m\u001b[36m \u001b[39m\u001b[32mIn[5]\u001b[39m\u001b[32m, line 41\u001b[39m, in \u001b[36mgenerate_sql\u001b[39m\u001b[34m(db_id, question, client, model)\u001b[39m\n\u001b[32m     29\u001b[39m system_prompt = (\n\u001b[32m     30\u001b[39m     \u001b[33m\"\u001b[39m\u001b[33mТы — AI-ассистент, генерирующий SQL-запросы на основе пользовательских запросов.\u001b[39m\u001b[38;5;130;01m\\n\u001b[39;00m\u001b[33m\"\u001b[39m\n\u001b[32m     31\u001b[39m     \u001b[33m\"\u001b[39m\u001b[33mНиже — схема базы данных:\u001b[39m\u001b[38;5;130;01m\\n\u001b[39;00m\u001b[38;5;130;01m\\n\u001b[39;00m\u001b[33m\"\u001b[39m\n\u001b[32m   (...)\u001b[39m\u001b[32m     36\u001b[39m     \u001b[33m\"\u001b[39m\u001b[33m4) Оптимизируй запрос для минимальной нагрузки на БД.\u001b[39m\u001b[33m\"\u001b[39m\n\u001b[32m     37\u001b[39m )\n\u001b[32m     39\u001b[39m user_prompt = \u001b[33mf\u001b[39m\u001b[33m\"\u001b[39m\u001b[33mЗапрос пользователя: \u001b[39m\u001b[38;5;132;01m{\u001b[39;00mquestion\u001b[38;5;132;01m}\u001b[39;00m\u001b[33m\"\u001b[39m\n\u001b[32m---> \u001b[39m\u001b[32m41\u001b[39m response = \u001b[43mclient\u001b[49m\u001b[43m.\u001b[49m\u001b[43mbeta\u001b[49m\u001b[43m.\u001b[49m\u001b[43mchat\u001b[49m\u001b[43m.\u001b[49m\u001b[43mcompletions\u001b[49m\u001b[43m.\u001b[49m\u001b[43mparse\u001b[49m\u001b[43m(\u001b[49m\n\u001b[32m     42\u001b[39m \u001b[43m    \u001b[49m\u001b[43mmodel\u001b[49m\u001b[43m=\u001b[49m\u001b[43mmodel\u001b[49m\u001b[43m,\u001b[49m\n\u001b[32m     43\u001b[39m \u001b[43m    \u001b[49m\u001b[43mtemperature\u001b[49m\u001b[43m=\u001b[49m\u001b[32;43m0.25\u001b[39;49m\u001b[43m,\u001b[49m\n\u001b[32m     44\u001b[39m \u001b[43m    \u001b[49m\u001b[43mmessages\u001b[49m\u001b[43m=\u001b[49m\u001b[43m[\u001b[49m\u001b[43m{\u001b[49m\u001b[33;43m\"\u001b[39;49m\u001b[33;43mrole\u001b[39;49m\u001b[33;43m\"\u001b[39;49m\u001b[43m:\u001b[49m\u001b[43m \u001b[49m\u001b[33;43m\"\u001b[39;49m\u001b[33;43msystem\u001b[39;49m\u001b[33;43m\"\u001b[39;49m\u001b[43m,\u001b[49m\u001b[43m \u001b[49m\u001b[33;43m\"\u001b[39;49m\u001b[33;43mcontent\u001b[39;49m\u001b[33;43m\"\u001b[39;49m\u001b[43m:\u001b[49m\u001b[43m \u001b[49m\u001b[43msystem_prompt\u001b[49m\u001b[43m}\u001b[49m\u001b[43m,\u001b[49m\u001b[43m \u001b[49m\u001b[43m{\u001b[49m\u001b[33;43m\"\u001b[39;49m\u001b[33;43mrole\u001b[39;49m\u001b[33;43m\"\u001b[39;49m\u001b[43m:\u001b[49m\u001b[43m \u001b[49m\u001b[33;43m\"\u001b[39;49m\u001b[33;43muser\u001b[39;49m\u001b[33;43m\"\u001b[39;49m\u001b[43m,\u001b[49m\u001b[43m \u001b[49m\u001b[33;43m\"\u001b[39;49m\u001b[33;43mcontent\u001b[39;49m\u001b[33;43m\"\u001b[39;49m\u001b[43m:\u001b[49m\u001b[43m \u001b[49m\u001b[43muser_prompt\u001b[49m\u001b[43m}\u001b[49m\u001b[43m]\u001b[49m\u001b[43m,\u001b[49m\n\u001b[32m     45\u001b[39m \u001b[43m    \u001b[49m\u001b[43mresponse_format\u001b[49m\u001b[43m=\u001b[49m\u001b[43mSqlQuery\u001b[49m\u001b[43m,\u001b[49m\n\u001b[32m     46\u001b[39m \u001b[43m\u001b[49m\u001b[43m)\u001b[49m\n\u001b[32m     48\u001b[39m \u001b[38;5;28;01mreturn\u001b[39;00m response.choices[\u001b[32m0\u001b[39m].message.parsed.sql_query\n",
      "\u001b[36mFile \u001b[39m\u001b[32m~/Developer/qa_agentic_rag/.venv/lib/python3.13/site-packages/openai/resources/beta/chat/completions.py:158\u001b[39m, in \u001b[36mCompletions.parse\u001b[39m\u001b[34m(self, messages, model, audio, response_format, frequency_penalty, function_call, functions, logit_bias, logprobs, max_completion_tokens, max_tokens, metadata, modalities, n, parallel_tool_calls, prediction, presence_penalty, reasoning_effort, seed, service_tier, stop, store, stream_options, temperature, tool_choice, tools, top_logprobs, top_p, user, web_search_options, extra_headers, extra_query, extra_body, timeout)\u001b[39m\n\u001b[32m    151\u001b[39m \u001b[38;5;28;01mdef\u001b[39;00m\u001b[38;5;250m \u001b[39m\u001b[34mparser\u001b[39m(raw_completion: ChatCompletion) -> ParsedChatCompletion[ResponseFormatT]:\n\u001b[32m    152\u001b[39m     \u001b[38;5;28;01mreturn\u001b[39;00m _parse_chat_completion(\n\u001b[32m    153\u001b[39m         response_format=response_format,\n\u001b[32m    154\u001b[39m         chat_completion=raw_completion,\n\u001b[32m    155\u001b[39m         input_tools=tools,\n\u001b[32m    156\u001b[39m     )\n\u001b[32m--> \u001b[39m\u001b[32m158\u001b[39m \u001b[38;5;28;01mreturn\u001b[39;00m \u001b[38;5;28;43mself\u001b[39;49m\u001b[43m.\u001b[49m\u001b[43m_post\u001b[49m\u001b[43m(\u001b[49m\n\u001b[32m    159\u001b[39m \u001b[43m    \u001b[49m\u001b[33;43m\"\u001b[39;49m\u001b[33;43m/chat/completions\u001b[39;49m\u001b[33;43m\"\u001b[39;49m\u001b[43m,\u001b[49m\n\u001b[32m    160\u001b[39m \u001b[43m    \u001b[49m\u001b[43mbody\u001b[49m\u001b[43m=\u001b[49m\u001b[43mmaybe_transform\u001b[49m\u001b[43m(\u001b[49m\n\u001b[32m    161\u001b[39m \u001b[43m        \u001b[49m\u001b[43m{\u001b[49m\n\u001b[32m    162\u001b[39m \u001b[43m            \u001b[49m\u001b[33;43m\"\u001b[39;49m\u001b[33;43mmessages\u001b[39;49m\u001b[33;43m\"\u001b[39;49m\u001b[43m:\u001b[49m\u001b[43m \u001b[49m\u001b[43mmessages\u001b[49m\u001b[43m,\u001b[49m\n\u001b[32m    163\u001b[39m \u001b[43m            \u001b[49m\u001b[33;43m\"\u001b[39;49m\u001b[33;43mmodel\u001b[39;49m\u001b[33;43m\"\u001b[39;49m\u001b[43m:\u001b[49m\u001b[43m \u001b[49m\u001b[43mmodel\u001b[49m\u001b[43m,\u001b[49m\n\u001b[32m    164\u001b[39m \u001b[43m            \u001b[49m\u001b[33;43m\"\u001b[39;49m\u001b[33;43maudio\u001b[39;49m\u001b[33;43m\"\u001b[39;49m\u001b[43m:\u001b[49m\u001b[43m \u001b[49m\u001b[43maudio\u001b[49m\u001b[43m,\u001b[49m\n\u001b[32m    165\u001b[39m \u001b[43m            \u001b[49m\u001b[33;43m\"\u001b[39;49m\u001b[33;43mfrequency_penalty\u001b[39;49m\u001b[33;43m\"\u001b[39;49m\u001b[43m:\u001b[49m\u001b[43m \u001b[49m\u001b[43mfrequency_penalty\u001b[49m\u001b[43m,\u001b[49m\n\u001b[32m    166\u001b[39m \u001b[43m            \u001b[49m\u001b[33;43m\"\u001b[39;49m\u001b[33;43mfunction_call\u001b[39;49m\u001b[33;43m\"\u001b[39;49m\u001b[43m:\u001b[49m\u001b[43m \u001b[49m\u001b[43mfunction_call\u001b[49m\u001b[43m,\u001b[49m\n\u001b[32m    167\u001b[39m \u001b[43m            \u001b[49m\u001b[33;43m\"\u001b[39;49m\u001b[33;43mfunctions\u001b[39;49m\u001b[33;43m\"\u001b[39;49m\u001b[43m:\u001b[49m\u001b[43m \u001b[49m\u001b[43mfunctions\u001b[49m\u001b[43m,\u001b[49m\n\u001b[32m    168\u001b[39m \u001b[43m            \u001b[49m\u001b[33;43m\"\u001b[39;49m\u001b[33;43mlogit_bias\u001b[39;49m\u001b[33;43m\"\u001b[39;49m\u001b[43m:\u001b[49m\u001b[43m \u001b[49m\u001b[43mlogit_bias\u001b[49m\u001b[43m,\u001b[49m\n\u001b[32m    169\u001b[39m \u001b[43m            \u001b[49m\u001b[33;43m\"\u001b[39;49m\u001b[33;43mlogprobs\u001b[39;49m\u001b[33;43m\"\u001b[39;49m\u001b[43m:\u001b[49m\u001b[43m \u001b[49m\u001b[43mlogprobs\u001b[49m\u001b[43m,\u001b[49m\n\u001b[32m    170\u001b[39m \u001b[43m            \u001b[49m\u001b[33;43m\"\u001b[39;49m\u001b[33;43mmax_completion_tokens\u001b[39;49m\u001b[33;43m\"\u001b[39;49m\u001b[43m:\u001b[49m\u001b[43m \u001b[49m\u001b[43mmax_completion_tokens\u001b[49m\u001b[43m,\u001b[49m\n\u001b[32m    171\u001b[39m \u001b[43m            \u001b[49m\u001b[33;43m\"\u001b[39;49m\u001b[33;43mmax_tokens\u001b[39;49m\u001b[33;43m\"\u001b[39;49m\u001b[43m:\u001b[49m\u001b[43m \u001b[49m\u001b[43mmax_tokens\u001b[49m\u001b[43m,\u001b[49m\n\u001b[32m    172\u001b[39m \u001b[43m            \u001b[49m\u001b[33;43m\"\u001b[39;49m\u001b[33;43mmetadata\u001b[39;49m\u001b[33;43m\"\u001b[39;49m\u001b[43m:\u001b[49m\u001b[43m \u001b[49m\u001b[43mmetadata\u001b[49m\u001b[43m,\u001b[49m\n\u001b[32m    173\u001b[39m \u001b[43m            \u001b[49m\u001b[33;43m\"\u001b[39;49m\u001b[33;43mmodalities\u001b[39;49m\u001b[33;43m\"\u001b[39;49m\u001b[43m:\u001b[49m\u001b[43m \u001b[49m\u001b[43mmodalities\u001b[49m\u001b[43m,\u001b[49m\n\u001b[32m    174\u001b[39m \u001b[43m            \u001b[49m\u001b[33;43m\"\u001b[39;49m\u001b[33;43mn\u001b[39;49m\u001b[33;43m\"\u001b[39;49m\u001b[43m:\u001b[49m\u001b[43m \u001b[49m\u001b[43mn\u001b[49m\u001b[43m,\u001b[49m\n\u001b[32m    175\u001b[39m \u001b[43m            \u001b[49m\u001b[33;43m\"\u001b[39;49m\u001b[33;43mparallel_tool_calls\u001b[39;49m\u001b[33;43m\"\u001b[39;49m\u001b[43m:\u001b[49m\u001b[43m \u001b[49m\u001b[43mparallel_tool_calls\u001b[49m\u001b[43m,\u001b[49m\n\u001b[32m    176\u001b[39m \u001b[43m            \u001b[49m\u001b[33;43m\"\u001b[39;49m\u001b[33;43mprediction\u001b[39;49m\u001b[33;43m\"\u001b[39;49m\u001b[43m:\u001b[49m\u001b[43m \u001b[49m\u001b[43mprediction\u001b[49m\u001b[43m,\u001b[49m\n\u001b[32m    177\u001b[39m \u001b[43m            \u001b[49m\u001b[33;43m\"\u001b[39;49m\u001b[33;43mpresence_penalty\u001b[39;49m\u001b[33;43m\"\u001b[39;49m\u001b[43m:\u001b[49m\u001b[43m \u001b[49m\u001b[43mpresence_penalty\u001b[49m\u001b[43m,\u001b[49m\n\u001b[32m    178\u001b[39m \u001b[43m            \u001b[49m\u001b[33;43m\"\u001b[39;49m\u001b[33;43mreasoning_effort\u001b[39;49m\u001b[33;43m\"\u001b[39;49m\u001b[43m:\u001b[49m\u001b[43m \u001b[49m\u001b[43mreasoning_effort\u001b[49m\u001b[43m,\u001b[49m\n\u001b[32m    179\u001b[39m \u001b[43m            \u001b[49m\u001b[33;43m\"\u001b[39;49m\u001b[33;43mresponse_format\u001b[39;49m\u001b[33;43m\"\u001b[39;49m\u001b[43m:\u001b[49m\u001b[43m \u001b[49m\u001b[43m_type_to_response_format\u001b[49m\u001b[43m(\u001b[49m\u001b[43mresponse_format\u001b[49m\u001b[43m)\u001b[49m\u001b[43m,\u001b[49m\n\u001b[32m    180\u001b[39m \u001b[43m            \u001b[49m\u001b[33;43m\"\u001b[39;49m\u001b[33;43mseed\u001b[39;49m\u001b[33;43m\"\u001b[39;49m\u001b[43m:\u001b[49m\u001b[43m \u001b[49m\u001b[43mseed\u001b[49m\u001b[43m,\u001b[49m\n\u001b[32m    181\u001b[39m \u001b[43m            \u001b[49m\u001b[33;43m\"\u001b[39;49m\u001b[33;43mservice_tier\u001b[39;49m\u001b[33;43m\"\u001b[39;49m\u001b[43m:\u001b[49m\u001b[43m \u001b[49m\u001b[43mservice_tier\u001b[49m\u001b[43m,\u001b[49m\n\u001b[32m    182\u001b[39m \u001b[43m            \u001b[49m\u001b[33;43m\"\u001b[39;49m\u001b[33;43mstop\u001b[39;49m\u001b[33;43m\"\u001b[39;49m\u001b[43m:\u001b[49m\u001b[43m \u001b[49m\u001b[43mstop\u001b[49m\u001b[43m,\u001b[49m\n\u001b[32m    183\u001b[39m \u001b[43m            \u001b[49m\u001b[33;43m\"\u001b[39;49m\u001b[33;43mstore\u001b[39;49m\u001b[33;43m\"\u001b[39;49m\u001b[43m:\u001b[49m\u001b[43m \u001b[49m\u001b[43mstore\u001b[49m\u001b[43m,\u001b[49m\n\u001b[32m    184\u001b[39m \u001b[43m            \u001b[49m\u001b[33;43m\"\u001b[39;49m\u001b[33;43mstream\u001b[39;49m\u001b[33;43m\"\u001b[39;49m\u001b[43m:\u001b[49m\u001b[43m \u001b[49m\u001b[38;5;28;43;01mFalse\u001b[39;49;00m\u001b[43m,\u001b[49m\n\u001b[32m    185\u001b[39m \u001b[43m            \u001b[49m\u001b[33;43m\"\u001b[39;49m\u001b[33;43mstream_options\u001b[39;49m\u001b[33;43m\"\u001b[39;49m\u001b[43m:\u001b[49m\u001b[43m \u001b[49m\u001b[43mstream_options\u001b[49m\u001b[43m,\u001b[49m\n\u001b[32m    186\u001b[39m \u001b[43m            \u001b[49m\u001b[33;43m\"\u001b[39;49m\u001b[33;43mtemperature\u001b[39;49m\u001b[33;43m\"\u001b[39;49m\u001b[43m:\u001b[49m\u001b[43m \u001b[49m\u001b[43mtemperature\u001b[49m\u001b[43m,\u001b[49m\n\u001b[32m    187\u001b[39m \u001b[43m            \u001b[49m\u001b[33;43m\"\u001b[39;49m\u001b[33;43mtool_choice\u001b[39;49m\u001b[33;43m\"\u001b[39;49m\u001b[43m:\u001b[49m\u001b[43m \u001b[49m\u001b[43mtool_choice\u001b[49m\u001b[43m,\u001b[49m\n\u001b[32m    188\u001b[39m \u001b[43m            \u001b[49m\u001b[33;43m\"\u001b[39;49m\u001b[33;43mtools\u001b[39;49m\u001b[33;43m\"\u001b[39;49m\u001b[43m:\u001b[49m\u001b[43m \u001b[49m\u001b[43mtools\u001b[49m\u001b[43m,\u001b[49m\n\u001b[32m    189\u001b[39m \u001b[43m            \u001b[49m\u001b[33;43m\"\u001b[39;49m\u001b[33;43mtop_logprobs\u001b[39;49m\u001b[33;43m\"\u001b[39;49m\u001b[43m:\u001b[49m\u001b[43m \u001b[49m\u001b[43mtop_logprobs\u001b[49m\u001b[43m,\u001b[49m\n\u001b[32m    190\u001b[39m \u001b[43m            \u001b[49m\u001b[33;43m\"\u001b[39;49m\u001b[33;43mtop_p\u001b[39;49m\u001b[33;43m\"\u001b[39;49m\u001b[43m:\u001b[49m\u001b[43m \u001b[49m\u001b[43mtop_p\u001b[49m\u001b[43m,\u001b[49m\n\u001b[32m    191\u001b[39m \u001b[43m            \u001b[49m\u001b[33;43m\"\u001b[39;49m\u001b[33;43muser\u001b[39;49m\u001b[33;43m\"\u001b[39;49m\u001b[43m:\u001b[49m\u001b[43m \u001b[49m\u001b[43muser\u001b[49m\u001b[43m,\u001b[49m\n\u001b[32m    192\u001b[39m \u001b[43m            \u001b[49m\u001b[33;43m\"\u001b[39;49m\u001b[33;43mweb_search_options\u001b[39;49m\u001b[33;43m\"\u001b[39;49m\u001b[43m:\u001b[49m\u001b[43m \u001b[49m\u001b[43mweb_search_options\u001b[49m\u001b[43m,\u001b[49m\n\u001b[32m    193\u001b[39m \u001b[43m        \u001b[49m\u001b[43m}\u001b[49m\u001b[43m,\u001b[49m\n\u001b[32m    194\u001b[39m \u001b[43m        \u001b[49m\u001b[43mcompletion_create_params\u001b[49m\u001b[43m.\u001b[49m\u001b[43mCompletionCreateParams\u001b[49m\u001b[43m,\u001b[49m\n\u001b[32m    195\u001b[39m \u001b[43m    \u001b[49m\u001b[43m)\u001b[49m\u001b[43m,\u001b[49m\n\u001b[32m    196\u001b[39m \u001b[43m    \u001b[49m\u001b[43moptions\u001b[49m\u001b[43m=\u001b[49m\u001b[43mmake_request_options\u001b[49m\u001b[43m(\u001b[49m\n\u001b[32m    197\u001b[39m \u001b[43m        \u001b[49m\u001b[43mextra_headers\u001b[49m\u001b[43m=\u001b[49m\u001b[43mextra_headers\u001b[49m\u001b[43m,\u001b[49m\n\u001b[32m    198\u001b[39m \u001b[43m        \u001b[49m\u001b[43mextra_query\u001b[49m\u001b[43m=\u001b[49m\u001b[43mextra_query\u001b[49m\u001b[43m,\u001b[49m\n\u001b[32m    199\u001b[39m \u001b[43m        \u001b[49m\u001b[43mextra_body\u001b[49m\u001b[43m=\u001b[49m\u001b[43mextra_body\u001b[49m\u001b[43m,\u001b[49m\n\u001b[32m    200\u001b[39m \u001b[43m        \u001b[49m\u001b[43mtimeout\u001b[49m\u001b[43m=\u001b[49m\u001b[43mtimeout\u001b[49m\u001b[43m,\u001b[49m\n\u001b[32m    201\u001b[39m \u001b[43m        \u001b[49m\u001b[43mpost_parser\u001b[49m\u001b[43m=\u001b[49m\u001b[43mparser\u001b[49m\u001b[43m,\u001b[49m\n\u001b[32m    202\u001b[39m \u001b[43m    \u001b[49m\u001b[43m)\u001b[49m\u001b[43m,\u001b[49m\n\u001b[32m    203\u001b[39m \u001b[43m    \u001b[49m\u001b[38;5;66;43;03m# we turn the `ChatCompletion` instance into a `ParsedChatCompletion`\u001b[39;49;00m\n\u001b[32m    204\u001b[39m \u001b[43m    \u001b[49m\u001b[38;5;66;43;03m# in the `parser` function above\u001b[39;49;00m\n\u001b[32m    205\u001b[39m \u001b[43m    \u001b[49m\u001b[43mcast_to\u001b[49m\u001b[43m=\u001b[49m\u001b[43mcast\u001b[49m\u001b[43m(\u001b[49m\u001b[43mType\u001b[49m\u001b[43m[\u001b[49m\u001b[43mParsedChatCompletion\u001b[49m\u001b[43m[\u001b[49m\u001b[43mResponseFormatT\u001b[49m\u001b[43m]\u001b[49m\u001b[43m]\u001b[49m\u001b[43m,\u001b[49m\u001b[43m \u001b[49m\u001b[43mChatCompletion\u001b[49m\u001b[43m)\u001b[49m\u001b[43m,\u001b[49m\n\u001b[32m    206\u001b[39m \u001b[43m    \u001b[49m\u001b[43mstream\u001b[49m\u001b[43m=\u001b[49m\u001b[38;5;28;43;01mFalse\u001b[39;49;00m\u001b[43m,\u001b[49m\n\u001b[32m    207\u001b[39m \u001b[43m\u001b[49m\u001b[43m)\u001b[49m\n",
      "\u001b[36mFile \u001b[39m\u001b[32m~/Developer/qa_agentic_rag/.venv/lib/python3.13/site-packages/openai/_base_client.py:1239\u001b[39m, in \u001b[36mSyncAPIClient.post\u001b[39m\u001b[34m(self, path, cast_to, body, options, files, stream, stream_cls)\u001b[39m\n\u001b[32m   1225\u001b[39m \u001b[38;5;28;01mdef\u001b[39;00m\u001b[38;5;250m \u001b[39m\u001b[34mpost\u001b[39m(\n\u001b[32m   1226\u001b[39m     \u001b[38;5;28mself\u001b[39m,\n\u001b[32m   1227\u001b[39m     path: \u001b[38;5;28mstr\u001b[39m,\n\u001b[32m   (...)\u001b[39m\u001b[32m   1234\u001b[39m     stream_cls: \u001b[38;5;28mtype\u001b[39m[_StreamT] | \u001b[38;5;28;01mNone\u001b[39;00m = \u001b[38;5;28;01mNone\u001b[39;00m,\n\u001b[32m   1235\u001b[39m ) -> ResponseT | _StreamT:\n\u001b[32m   1236\u001b[39m     opts = FinalRequestOptions.construct(\n\u001b[32m   1237\u001b[39m         method=\u001b[33m\"\u001b[39m\u001b[33mpost\u001b[39m\u001b[33m\"\u001b[39m, url=path, json_data=body, files=to_httpx_files(files), **options\n\u001b[32m   1238\u001b[39m     )\n\u001b[32m-> \u001b[39m\u001b[32m1239\u001b[39m     \u001b[38;5;28;01mreturn\u001b[39;00m cast(ResponseT, \u001b[38;5;28;43mself\u001b[39;49m\u001b[43m.\u001b[49m\u001b[43mrequest\u001b[49m\u001b[43m(\u001b[49m\u001b[43mcast_to\u001b[49m\u001b[43m,\u001b[49m\u001b[43m \u001b[49m\u001b[43mopts\u001b[49m\u001b[43m,\u001b[49m\u001b[43m \u001b[49m\u001b[43mstream\u001b[49m\u001b[43m=\u001b[49m\u001b[43mstream\u001b[49m\u001b[43m,\u001b[49m\u001b[43m \u001b[49m\u001b[43mstream_cls\u001b[49m\u001b[43m=\u001b[49m\u001b[43mstream_cls\u001b[49m\u001b[43m)\u001b[49m)\n",
      "\u001b[36mFile \u001b[39m\u001b[32m~/Developer/qa_agentic_rag/.venv/lib/python3.13/site-packages/openai/_base_client.py:969\u001b[39m, in \u001b[36mSyncAPIClient.request\u001b[39m\u001b[34m(self, cast_to, options, stream, stream_cls)\u001b[39m\n\u001b[32m    967\u001b[39m response = \u001b[38;5;28;01mNone\u001b[39;00m\n\u001b[32m    968\u001b[39m \u001b[38;5;28;01mtry\u001b[39;00m:\n\u001b[32m--> \u001b[39m\u001b[32m969\u001b[39m     response = \u001b[38;5;28;43mself\u001b[39;49m\u001b[43m.\u001b[49m\u001b[43m_client\u001b[49m\u001b[43m.\u001b[49m\u001b[43msend\u001b[49m\u001b[43m(\u001b[49m\n\u001b[32m    970\u001b[39m \u001b[43m        \u001b[49m\u001b[43mrequest\u001b[49m\u001b[43m,\u001b[49m\n\u001b[32m    971\u001b[39m \u001b[43m        \u001b[49m\u001b[43mstream\u001b[49m\u001b[43m=\u001b[49m\u001b[43mstream\u001b[49m\u001b[43m \u001b[49m\u001b[38;5;129;43;01mor\u001b[39;49;00m\u001b[43m \u001b[49m\u001b[38;5;28;43mself\u001b[39;49m\u001b[43m.\u001b[49m\u001b[43m_should_stream_response_body\u001b[49m\u001b[43m(\u001b[49m\u001b[43mrequest\u001b[49m\u001b[43m=\u001b[49m\u001b[43mrequest\u001b[49m\u001b[43m)\u001b[49m\u001b[43m,\u001b[49m\n\u001b[32m    972\u001b[39m \u001b[43m        \u001b[49m\u001b[43m*\u001b[49m\u001b[43m*\u001b[49m\u001b[43mkwargs\u001b[49m\u001b[43m,\u001b[49m\n\u001b[32m    973\u001b[39m \u001b[43m    \u001b[49m\u001b[43m)\u001b[49m\n\u001b[32m    974\u001b[39m \u001b[38;5;28;01mexcept\u001b[39;00m httpx.TimeoutException \u001b[38;5;28;01mas\u001b[39;00m err:\n\u001b[32m    975\u001b[39m     log.debug(\u001b[33m\"\u001b[39m\u001b[33mEncountered httpx.TimeoutException\u001b[39m\u001b[33m\"\u001b[39m, exc_info=\u001b[38;5;28;01mTrue\u001b[39;00m)\n",
      "\u001b[36mFile \u001b[39m\u001b[32m~/Developer/qa_agentic_rag/.venv/lib/python3.13/site-packages/httpx/_client.py:914\u001b[39m, in \u001b[36mClient.send\u001b[39m\u001b[34m(self, request, stream, auth, follow_redirects)\u001b[39m\n\u001b[32m    910\u001b[39m \u001b[38;5;28mself\u001b[39m._set_timeout(request)\n\u001b[32m    912\u001b[39m auth = \u001b[38;5;28mself\u001b[39m._build_request_auth(request, auth)\n\u001b[32m--> \u001b[39m\u001b[32m914\u001b[39m response = \u001b[38;5;28;43mself\u001b[39;49m\u001b[43m.\u001b[49m\u001b[43m_send_handling_auth\u001b[49m\u001b[43m(\u001b[49m\n\u001b[32m    915\u001b[39m \u001b[43m    \u001b[49m\u001b[43mrequest\u001b[49m\u001b[43m,\u001b[49m\n\u001b[32m    916\u001b[39m \u001b[43m    \u001b[49m\u001b[43mauth\u001b[49m\u001b[43m=\u001b[49m\u001b[43mauth\u001b[49m\u001b[43m,\u001b[49m\n\u001b[32m    917\u001b[39m \u001b[43m    \u001b[49m\u001b[43mfollow_redirects\u001b[49m\u001b[43m=\u001b[49m\u001b[43mfollow_redirects\u001b[49m\u001b[43m,\u001b[49m\n\u001b[32m    918\u001b[39m \u001b[43m    \u001b[49m\u001b[43mhistory\u001b[49m\u001b[43m=\u001b[49m\u001b[43m[\u001b[49m\u001b[43m]\u001b[49m\u001b[43m,\u001b[49m\n\u001b[32m    919\u001b[39m \u001b[43m\u001b[49m\u001b[43m)\u001b[49m\n\u001b[32m    920\u001b[39m \u001b[38;5;28;01mtry\u001b[39;00m:\n\u001b[32m    921\u001b[39m     \u001b[38;5;28;01mif\u001b[39;00m \u001b[38;5;129;01mnot\u001b[39;00m stream:\n",
      "\u001b[36mFile \u001b[39m\u001b[32m~/Developer/qa_agentic_rag/.venv/lib/python3.13/site-packages/httpx/_client.py:942\u001b[39m, in \u001b[36mClient._send_handling_auth\u001b[39m\u001b[34m(self, request, auth, follow_redirects, history)\u001b[39m\n\u001b[32m    939\u001b[39m request = \u001b[38;5;28mnext\u001b[39m(auth_flow)\n\u001b[32m    941\u001b[39m \u001b[38;5;28;01mwhile\u001b[39;00m \u001b[38;5;28;01mTrue\u001b[39;00m:\n\u001b[32m--> \u001b[39m\u001b[32m942\u001b[39m     response = \u001b[38;5;28;43mself\u001b[39;49m\u001b[43m.\u001b[49m\u001b[43m_send_handling_redirects\u001b[49m\u001b[43m(\u001b[49m\n\u001b[32m    943\u001b[39m \u001b[43m        \u001b[49m\u001b[43mrequest\u001b[49m\u001b[43m,\u001b[49m\n\u001b[32m    944\u001b[39m \u001b[43m        \u001b[49m\u001b[43mfollow_redirects\u001b[49m\u001b[43m=\u001b[49m\u001b[43mfollow_redirects\u001b[49m\u001b[43m,\u001b[49m\n\u001b[32m    945\u001b[39m \u001b[43m        \u001b[49m\u001b[43mhistory\u001b[49m\u001b[43m=\u001b[49m\u001b[43mhistory\u001b[49m\u001b[43m,\u001b[49m\n\u001b[32m    946\u001b[39m \u001b[43m    \u001b[49m\u001b[43m)\u001b[49m\n\u001b[32m    947\u001b[39m     \u001b[38;5;28;01mtry\u001b[39;00m:\n\u001b[32m    948\u001b[39m         \u001b[38;5;28;01mtry\u001b[39;00m:\n",
      "\u001b[36mFile \u001b[39m\u001b[32m~/Developer/qa_agentic_rag/.venv/lib/python3.13/site-packages/httpx/_client.py:979\u001b[39m, in \u001b[36mClient._send_handling_redirects\u001b[39m\u001b[34m(self, request, follow_redirects, history)\u001b[39m\n\u001b[32m    976\u001b[39m \u001b[38;5;28;01mfor\u001b[39;00m hook \u001b[38;5;129;01min\u001b[39;00m \u001b[38;5;28mself\u001b[39m._event_hooks[\u001b[33m\"\u001b[39m\u001b[33mrequest\u001b[39m\u001b[33m\"\u001b[39m]:\n\u001b[32m    977\u001b[39m     hook(request)\n\u001b[32m--> \u001b[39m\u001b[32m979\u001b[39m response = \u001b[38;5;28;43mself\u001b[39;49m\u001b[43m.\u001b[49m\u001b[43m_send_single_request\u001b[49m\u001b[43m(\u001b[49m\u001b[43mrequest\u001b[49m\u001b[43m)\u001b[49m\n\u001b[32m    980\u001b[39m \u001b[38;5;28;01mtry\u001b[39;00m:\n\u001b[32m    981\u001b[39m     \u001b[38;5;28;01mfor\u001b[39;00m hook \u001b[38;5;129;01min\u001b[39;00m \u001b[38;5;28mself\u001b[39m._event_hooks[\u001b[33m\"\u001b[39m\u001b[33mresponse\u001b[39m\u001b[33m\"\u001b[39m]:\n",
      "\u001b[36mFile \u001b[39m\u001b[32m~/Developer/qa_agentic_rag/.venv/lib/python3.13/site-packages/httpx/_client.py:1014\u001b[39m, in \u001b[36mClient._send_single_request\u001b[39m\u001b[34m(self, request)\u001b[39m\n\u001b[32m   1009\u001b[39m     \u001b[38;5;28;01mraise\u001b[39;00m \u001b[38;5;167;01mRuntimeError\u001b[39;00m(\n\u001b[32m   1010\u001b[39m         \u001b[33m\"\u001b[39m\u001b[33mAttempted to send an async request with a sync Client instance.\u001b[39m\u001b[33m\"\u001b[39m\n\u001b[32m   1011\u001b[39m     )\n\u001b[32m   1013\u001b[39m \u001b[38;5;28;01mwith\u001b[39;00m request_context(request=request):\n\u001b[32m-> \u001b[39m\u001b[32m1014\u001b[39m     response = \u001b[43mtransport\u001b[49m\u001b[43m.\u001b[49m\u001b[43mhandle_request\u001b[49m\u001b[43m(\u001b[49m\u001b[43mrequest\u001b[49m\u001b[43m)\u001b[49m\n\u001b[32m   1016\u001b[39m \u001b[38;5;28;01massert\u001b[39;00m \u001b[38;5;28misinstance\u001b[39m(response.stream, SyncByteStream)\n\u001b[32m   1018\u001b[39m response.request = request\n",
      "\u001b[36mFile \u001b[39m\u001b[32m~/Developer/qa_agentic_rag/.venv/lib/python3.13/site-packages/httpx/_transports/default.py:250\u001b[39m, in \u001b[36mHTTPTransport.handle_request\u001b[39m\u001b[34m(self, request)\u001b[39m\n\u001b[32m    237\u001b[39m req = httpcore.Request(\n\u001b[32m    238\u001b[39m     method=request.method,\n\u001b[32m    239\u001b[39m     url=httpcore.URL(\n\u001b[32m   (...)\u001b[39m\u001b[32m    247\u001b[39m     extensions=request.extensions,\n\u001b[32m    248\u001b[39m )\n\u001b[32m    249\u001b[39m \u001b[38;5;28;01mwith\u001b[39;00m map_httpcore_exceptions():\n\u001b[32m--> \u001b[39m\u001b[32m250\u001b[39m     resp = \u001b[38;5;28;43mself\u001b[39;49m\u001b[43m.\u001b[49m\u001b[43m_pool\u001b[49m\u001b[43m.\u001b[49m\u001b[43mhandle_request\u001b[49m\u001b[43m(\u001b[49m\u001b[43mreq\u001b[49m\u001b[43m)\u001b[49m\n\u001b[32m    252\u001b[39m \u001b[38;5;28;01massert\u001b[39;00m \u001b[38;5;28misinstance\u001b[39m(resp.stream, typing.Iterable)\n\u001b[32m    254\u001b[39m \u001b[38;5;28;01mreturn\u001b[39;00m Response(\n\u001b[32m    255\u001b[39m     status_code=resp.status,\n\u001b[32m    256\u001b[39m     headers=resp.headers,\n\u001b[32m    257\u001b[39m     stream=ResponseStream(resp.stream),\n\u001b[32m    258\u001b[39m     extensions=resp.extensions,\n\u001b[32m    259\u001b[39m )\n",
      "\u001b[36mFile \u001b[39m\u001b[32m~/Developer/qa_agentic_rag/.venv/lib/python3.13/site-packages/httpcore/_sync/connection_pool.py:256\u001b[39m, in \u001b[36mConnectionPool.handle_request\u001b[39m\u001b[34m(self, request)\u001b[39m\n\u001b[32m    253\u001b[39m         closing = \u001b[38;5;28mself\u001b[39m._assign_requests_to_connections()\n\u001b[32m    255\u001b[39m     \u001b[38;5;28mself\u001b[39m._close_connections(closing)\n\u001b[32m--> \u001b[39m\u001b[32m256\u001b[39m     \u001b[38;5;28;01mraise\u001b[39;00m exc \u001b[38;5;28;01mfrom\u001b[39;00m\u001b[38;5;250m \u001b[39m\u001b[38;5;28;01mNone\u001b[39;00m\n\u001b[32m    258\u001b[39m \u001b[38;5;66;03m# Return the response. Note that in this case we still have to manage\u001b[39;00m\n\u001b[32m    259\u001b[39m \u001b[38;5;66;03m# the point at which the response is closed.\u001b[39;00m\n\u001b[32m    260\u001b[39m \u001b[38;5;28;01massert\u001b[39;00m \u001b[38;5;28misinstance\u001b[39m(response.stream, typing.Iterable)\n",
      "\u001b[36mFile \u001b[39m\u001b[32m~/Developer/qa_agentic_rag/.venv/lib/python3.13/site-packages/httpcore/_sync/connection_pool.py:236\u001b[39m, in \u001b[36mConnectionPool.handle_request\u001b[39m\u001b[34m(self, request)\u001b[39m\n\u001b[32m    232\u001b[39m connection = pool_request.wait_for_connection(timeout=timeout)\n\u001b[32m    234\u001b[39m \u001b[38;5;28;01mtry\u001b[39;00m:\n\u001b[32m    235\u001b[39m     \u001b[38;5;66;03m# Send the request on the assigned connection.\u001b[39;00m\n\u001b[32m--> \u001b[39m\u001b[32m236\u001b[39m     response = \u001b[43mconnection\u001b[49m\u001b[43m.\u001b[49m\u001b[43mhandle_request\u001b[49m\u001b[43m(\u001b[49m\n\u001b[32m    237\u001b[39m \u001b[43m        \u001b[49m\u001b[43mpool_request\u001b[49m\u001b[43m.\u001b[49m\u001b[43mrequest\u001b[49m\n\u001b[32m    238\u001b[39m \u001b[43m    \u001b[49m\u001b[43m)\u001b[49m\n\u001b[32m    239\u001b[39m \u001b[38;5;28;01mexcept\u001b[39;00m ConnectionNotAvailable:\n\u001b[32m    240\u001b[39m     \u001b[38;5;66;03m# In some cases a connection may initially be available to\u001b[39;00m\n\u001b[32m    241\u001b[39m     \u001b[38;5;66;03m# handle a request, but then become unavailable.\u001b[39;00m\n\u001b[32m    242\u001b[39m     \u001b[38;5;66;03m#\u001b[39;00m\n\u001b[32m    243\u001b[39m     \u001b[38;5;66;03m# In this case we clear the connection and try again.\u001b[39;00m\n\u001b[32m    244\u001b[39m     pool_request.clear_connection()\n",
      "\u001b[36mFile \u001b[39m\u001b[32m~/Developer/qa_agentic_rag/.venv/lib/python3.13/site-packages/httpcore/_sync/connection.py:103\u001b[39m, in \u001b[36mHTTPConnection.handle_request\u001b[39m\u001b[34m(self, request)\u001b[39m\n\u001b[32m    100\u001b[39m     \u001b[38;5;28mself\u001b[39m._connect_failed = \u001b[38;5;28;01mTrue\u001b[39;00m\n\u001b[32m    101\u001b[39m     \u001b[38;5;28;01mraise\u001b[39;00m exc\n\u001b[32m--> \u001b[39m\u001b[32m103\u001b[39m \u001b[38;5;28;01mreturn\u001b[39;00m \u001b[38;5;28;43mself\u001b[39;49m\u001b[43m.\u001b[49m\u001b[43m_connection\u001b[49m\u001b[43m.\u001b[49m\u001b[43mhandle_request\u001b[49m\u001b[43m(\u001b[49m\u001b[43mrequest\u001b[49m\u001b[43m)\u001b[49m\n",
      "\u001b[36mFile \u001b[39m\u001b[32m~/Developer/qa_agentic_rag/.venv/lib/python3.13/site-packages/httpcore/_sync/http11.py:136\u001b[39m, in \u001b[36mHTTP11Connection.handle_request\u001b[39m\u001b[34m(self, request)\u001b[39m\n\u001b[32m    134\u001b[39m     \u001b[38;5;28;01mwith\u001b[39;00m Trace(\u001b[33m\"\u001b[39m\u001b[33mresponse_closed\u001b[39m\u001b[33m\"\u001b[39m, logger, request) \u001b[38;5;28;01mas\u001b[39;00m trace:\n\u001b[32m    135\u001b[39m         \u001b[38;5;28mself\u001b[39m._response_closed()\n\u001b[32m--> \u001b[39m\u001b[32m136\u001b[39m \u001b[38;5;28;01mraise\u001b[39;00m exc\n",
      "\u001b[36mFile \u001b[39m\u001b[32m~/Developer/qa_agentic_rag/.venv/lib/python3.13/site-packages/httpcore/_sync/http11.py:106\u001b[39m, in \u001b[36mHTTP11Connection.handle_request\u001b[39m\u001b[34m(self, request)\u001b[39m\n\u001b[32m     95\u001b[39m     \u001b[38;5;28;01mpass\u001b[39;00m\n\u001b[32m     97\u001b[39m \u001b[38;5;28;01mwith\u001b[39;00m Trace(\n\u001b[32m     98\u001b[39m     \u001b[33m\"\u001b[39m\u001b[33mreceive_response_headers\u001b[39m\u001b[33m\"\u001b[39m, logger, request, kwargs\n\u001b[32m     99\u001b[39m ) \u001b[38;5;28;01mas\u001b[39;00m trace:\n\u001b[32m    100\u001b[39m     (\n\u001b[32m    101\u001b[39m         http_version,\n\u001b[32m    102\u001b[39m         status,\n\u001b[32m    103\u001b[39m         reason_phrase,\n\u001b[32m    104\u001b[39m         headers,\n\u001b[32m    105\u001b[39m         trailing_data,\n\u001b[32m--> \u001b[39m\u001b[32m106\u001b[39m     ) = \u001b[38;5;28;43mself\u001b[39;49m\u001b[43m.\u001b[49m\u001b[43m_receive_response_headers\u001b[49m\u001b[43m(\u001b[49m\u001b[43m*\u001b[49m\u001b[43m*\u001b[49m\u001b[43mkwargs\u001b[49m\u001b[43m)\u001b[49m\n\u001b[32m    107\u001b[39m     trace.return_value = (\n\u001b[32m    108\u001b[39m         http_version,\n\u001b[32m    109\u001b[39m         status,\n\u001b[32m    110\u001b[39m         reason_phrase,\n\u001b[32m    111\u001b[39m         headers,\n\u001b[32m    112\u001b[39m     )\n\u001b[32m    114\u001b[39m network_stream = \u001b[38;5;28mself\u001b[39m._network_stream\n",
      "\u001b[36mFile \u001b[39m\u001b[32m~/Developer/qa_agentic_rag/.venv/lib/python3.13/site-packages/httpcore/_sync/http11.py:177\u001b[39m, in \u001b[36mHTTP11Connection._receive_response_headers\u001b[39m\u001b[34m(self, request)\u001b[39m\n\u001b[32m    174\u001b[39m timeout = timeouts.get(\u001b[33m\"\u001b[39m\u001b[33mread\u001b[39m\u001b[33m\"\u001b[39m, \u001b[38;5;28;01mNone\u001b[39;00m)\n\u001b[32m    176\u001b[39m \u001b[38;5;28;01mwhile\u001b[39;00m \u001b[38;5;28;01mTrue\u001b[39;00m:\n\u001b[32m--> \u001b[39m\u001b[32m177\u001b[39m     event = \u001b[38;5;28;43mself\u001b[39;49m\u001b[43m.\u001b[49m\u001b[43m_receive_event\u001b[49m\u001b[43m(\u001b[49m\u001b[43mtimeout\u001b[49m\u001b[43m=\u001b[49m\u001b[43mtimeout\u001b[49m\u001b[43m)\u001b[49m\n\u001b[32m    178\u001b[39m     \u001b[38;5;28;01mif\u001b[39;00m \u001b[38;5;28misinstance\u001b[39m(event, h11.Response):\n\u001b[32m    179\u001b[39m         \u001b[38;5;28;01mbreak\u001b[39;00m\n",
      "\u001b[36mFile \u001b[39m\u001b[32m~/Developer/qa_agentic_rag/.venv/lib/python3.13/site-packages/httpcore/_sync/http11.py:217\u001b[39m, in \u001b[36mHTTP11Connection._receive_event\u001b[39m\u001b[34m(self, timeout)\u001b[39m\n\u001b[32m    214\u001b[39m     event = \u001b[38;5;28mself\u001b[39m._h11_state.next_event()\n\u001b[32m    216\u001b[39m \u001b[38;5;28;01mif\u001b[39;00m event \u001b[38;5;129;01mis\u001b[39;00m h11.NEED_DATA:\n\u001b[32m--> \u001b[39m\u001b[32m217\u001b[39m     data = \u001b[38;5;28;43mself\u001b[39;49m\u001b[43m.\u001b[49m\u001b[43m_network_stream\u001b[49m\u001b[43m.\u001b[49m\u001b[43mread\u001b[49m\u001b[43m(\u001b[49m\n\u001b[32m    218\u001b[39m \u001b[43m        \u001b[49m\u001b[38;5;28;43mself\u001b[39;49m\u001b[43m.\u001b[49m\u001b[43mREAD_NUM_BYTES\u001b[49m\u001b[43m,\u001b[49m\u001b[43m \u001b[49m\u001b[43mtimeout\u001b[49m\u001b[43m=\u001b[49m\u001b[43mtimeout\u001b[49m\n\u001b[32m    219\u001b[39m \u001b[43m    \u001b[49m\u001b[43m)\u001b[49m\n\u001b[32m    221\u001b[39m     \u001b[38;5;66;03m# If we feed this case through h11 we'll raise an exception like:\u001b[39;00m\n\u001b[32m    222\u001b[39m     \u001b[38;5;66;03m#\u001b[39;00m\n\u001b[32m    223\u001b[39m     \u001b[38;5;66;03m#     httpcore.RemoteProtocolError: can't handle event type\u001b[39;00m\n\u001b[32m   (...)\u001b[39m\u001b[32m    227\u001b[39m     \u001b[38;5;66;03m# perspective. Instead we handle this case distinctly and treat\u001b[39;00m\n\u001b[32m    228\u001b[39m     \u001b[38;5;66;03m# it as a ConnectError.\u001b[39;00m\n\u001b[32m    229\u001b[39m     \u001b[38;5;28;01mif\u001b[39;00m data == \u001b[33mb\u001b[39m\u001b[33m\"\u001b[39m\u001b[33m\"\u001b[39m \u001b[38;5;129;01mand\u001b[39;00m \u001b[38;5;28mself\u001b[39m._h11_state.their_state == h11.SEND_RESPONSE:\n",
      "\u001b[36mFile \u001b[39m\u001b[32m~/Developer/qa_agentic_rag/.venv/lib/python3.13/site-packages/httpcore/_backends/sync.py:128\u001b[39m, in \u001b[36mSyncStream.read\u001b[39m\u001b[34m(self, max_bytes, timeout)\u001b[39m\n\u001b[32m    126\u001b[39m \u001b[38;5;28;01mwith\u001b[39;00m map_exceptions(exc_map):\n\u001b[32m    127\u001b[39m     \u001b[38;5;28mself\u001b[39m._sock.settimeout(timeout)\n\u001b[32m--> \u001b[39m\u001b[32m128\u001b[39m     \u001b[38;5;28;01mreturn\u001b[39;00m \u001b[38;5;28;43mself\u001b[39;49m\u001b[43m.\u001b[49m\u001b[43m_sock\u001b[49m\u001b[43m.\u001b[49m\u001b[43mrecv\u001b[49m\u001b[43m(\u001b[49m\u001b[43mmax_bytes\u001b[49m\u001b[43m)\u001b[49m\n",
      "\u001b[31mKeyboardInterrupt\u001b[39m: "
     ]
    }
   ],
   "source": [
    "models_to_test = [\"qwen2.5:7b\", \"qwen2.5-coder:7b\", \"gemma3:12b\"]\n",
    "\n",
    "df_results = benchmark_models_on_spider(models_to_test, dev_examples, num_questions=500)\n",
    "df_results.to_csv(\"data/evaluation_results_500.csv\", index=None)"
   ]
  }
 ],
 "metadata": {
  "kernelspec": {
   "display_name": ".venv",
   "language": "python",
   "name": "python3"
  },
  "language_info": {
   "codemirror_mode": {
    "name": "ipython",
    "version": 3
   },
   "file_extension": ".py",
   "mimetype": "text/x-python",
   "name": "python",
   "nbconvert_exporter": "python",
   "pygments_lexer": "ipython3",
   "version": "3.13.3"
  }
 },
 "nbformat": 4,
 "nbformat_minor": 2
}
