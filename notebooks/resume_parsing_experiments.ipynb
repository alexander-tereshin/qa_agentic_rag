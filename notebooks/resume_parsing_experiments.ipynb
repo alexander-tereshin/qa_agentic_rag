{
 "cells": [
  {
   "cell_type": "code",
   "execution_count": 1,
   "metadata": {},
   "outputs": [],
   "source": [
    "import logging\n",
    "import os\n",
    "\n",
    "from dotenv import load_dotenv\n",
    "from openai import Client\n",
    "\n",
    "from resume_parser.src.resume_parser import ResumeParser\n",
    "\n",
    "\n",
    "load_dotenv()\n",
    "\n",
    "llm_api_url = os.getenv(\"LLM_API_URL\", default=\"http://localhost:11434/v1\")\n",
    "llm_api_key = os.getenv(\"LLM_API_TOKEN\", default=\"ollama\")\n",
    "llm_model = os.getenv(\"LLM_API_MODEL\", default=\"qwen2.5-coder:7b\")\n",
    "\n",
    "client = Client(base_url=llm_api_url, api_key=llm_api_key)\n",
    "\n",
    "logging.basicConfig(\n",
    "    level=logging.INFO,\n",
    "    format=\"%(asctime)s [%(levelname)s] %(message)s\",\n",
    "    handlers=[logging.StreamHandler()],\n",
    ")\n",
    "logger = logging.getLogger(__name__)\n",
    "\n",
    "resume_parser = ResumeParser(logger)"
   ]
  },
  {
   "cell_type": "code",
   "execution_count": 3,
   "metadata": {},
   "outputs": [
    {
     "name": "stderr",
     "output_type": "stream",
     "text": [
      "2025-05-13 02:05:45,572 [INFO] HTTP Request: POST https://api.openai.com/v1/chat/completions \"HTTP/1.1 200 OK\"\n"
     ]
    }
   ],
   "source": [
    "resume = await resume_parser.parse_resume(\"data/resumes_pdf/абрамов_борислав_трофимович_data_quality_engineer.pdf\")"
   ]
  },
  {
   "cell_type": "code",
   "execution_count": 16,
   "metadata": {},
   "outputs": [
    {
     "data": {
      "text/plain": [
       "{'name': 'Абрамов Борислав Трофимович',\n",
       " 'contact_info': Contacts(phone='86472426831', email='borislav.abramov@example.com', linkedin='abramovborislav', github='abramovborislav', location='Габон'),\n",
       " 'gender': 'мужской',\n",
       " 'title': 'Data Quality Engineer',\n",
       " 'summary': 'Опытный Data Quality Engineer с 10-летним стажем в области управления данными и обеспечения их качества. Обладаю глубоким пониманием методологий и инструментов, используемых для повышения точности и надежности данных. Способен эффективно работать в команде, решать сложные задачи и внедрять инновационные решения для улучшения процессов обработки данных.',\n",
       " 'skills': ['Data Quality Management',\n",
       "  'ETL (Extract, Transform, Load)',\n",
       "  'SQL',\n",
       "  'Python',\n",
       "  'Data Validation',\n",
       "  'Data Governance',\n",
       "  'Data Cleansing',\n",
       "  'Data Profiling',\n",
       "  'Problem Solving',\n",
       "  'Team Collaboration'],\n",
       " 'experience': [Experience(job_title='Senior Data Quality Engineer', company='DataTech Solutions', start_date='2018', end_date='2023', achievements=['Разработал и внедрил систему мониторинга данных, что снизило количество ошибок на 30% и улучшило производительность процессов.', 'Участвовал в проекте по интеграции данных из различных источников, что позволило увеличить точность отчетов на 25%.', 'Обеспечил соблюдение регламентов и стандартов качества данных, что повысило доверие к данным со стороны бизнес-пользователей.']),\n",
       "  Experience(job_title='Data Quality Analyst', company='InfoCorp', start_date='2013', end_date='2018', achievements=['Создал и поддерживал базу знаний по качеству данных, что упростило работу команды и сократило время на обучение новых сотрудников.', 'Разработал скрипты на Python для автоматизации рутинных задач, что сэкономило 20% рабочего времени.', 'Проводил регулярные аудиты данных, выявляя и исправляя проблемы, что повысило общее качество данных на 15%.'])],\n",
       " 'education': [Education(degree='Магистр', institution='Габонский университет', start_date='2008', end_date='2012', details='Информатика и вычислительная техника')],\n",
       " 'languages': None,\n",
       " 'certifications': ['Certified Data Quality Professional (CDQP)',\n",
       "  'AWS Certified Data Analytics'],\n",
       " 'hobbies': ['Программирование', 'Путешествия', 'Фотография'],\n",
       " 'portfolio': [Projects(name='Проект по интеграции данных', link='github.com/abramovborislav/data-integration-project', description='Цель: Интеграция данных из различных источников для создания единого хранилища. Роль: Разработка ETL-процессов и автоматизация тестирования. Технологии: Python, SQL, AWS. Результат: Увеличение точности данных на 25% и ускорение процессов на 30%.'),\n",
       "  Projects(name='Система мониторинга данных', link='github.com/abramovborislav/data-monitoring-system', description='Цель: Создание системы для мониторинга и анализа качества данных. Роль: Разработка и внедрение. Технологии: Python, SQL, Grafana. Результат: Снижение количества ошибок на 30% и улучшение производительности процессов.')]}"
      ]
     },
     "execution_count": 16,
     "metadata": {},
     "output_type": "execute_result"
    }
   ],
   "source": [
    "dict(next(iter(resume)))"
   ]
  },
  {
   "cell_type": "code",
   "execution_count": 6,
   "metadata": {},
   "outputs": [
    {
     "name": "stdout",
     "output_type": "stream",
     "text": [
      "200\n",
      "{'name': 'Абрамов Борислав Трофимович', 'contact_info': {'phone': '86472426831', 'email': 'borislav.abramov@example.com', 'linkedin': 'abramovborislav', 'github': 'abramovborislav', 'location': 'Габон'}, 'gender': 'мужской', 'title': 'Data Quality Engineer', 'summary': 'Опытный Data Quality Engineer с 10-летним стажем в области управления данными и обеспечения их качества. Обладаю глубоким пониманием методологий и инструментов, используемых для повышения точности и надежности данных. Способен эффективно работать в команде, решать сложные задачи и внедрять инновационные решения для улучшения процессов обработки данных.', 'skills': ['Data Quality Management', 'ETL (Extract, Transform, Load)', 'SQL', 'Python', 'Data Validation', 'Data Governance', 'Data Cleansing', 'Data Profiling', 'Problem Solving', 'Team Collaboration'], 'experience': [{'job_title': 'Senior Data Quality Engineer', 'company': 'DataTech Solutions', 'start_date': '2018-01-01', 'end_date': '2023-01-01', 'achievements': ['Разработал и внедрил систему мониторинга данных, что снизило количество ошибок на 30% и улучшило производительность процессов.', 'Участвовал в проекте по интеграции данных из различных источников, что позволило увеличить точность отчетов на 25%.', 'Обеспечил соблюдение регламентов и стандартов качества данных, что повысило доверие к данным со стороны бизнес-пользователей.']}, {'job_title': 'Data Quality Analyst', 'company': 'InfoCorp', 'start_date': '2013-01-01', 'end_date': '2018-01-01', 'achievements': ['Создал и поддерживал базу знаний по качеству данных, что упростило работу команды и сократило время на обучение новых сотрудников.', 'Разработал скрипты на Python для автоматизации рутинных задач, что сэкономило 20% рабочего времени.', 'Проводил регулярные аудиты данных, выявляя и исправляя проблемы, что повысило общее качество данных на 15%.']}], 'education': [{'degree': 'Магистр', 'institution': 'Габонский университет', 'start_date': '2008-01-01', 'end_date': '2012-01-01', 'details': 'Информатика и вычислительная техника'}], 'languages': None, 'certifications': ['Certified Data Quality Professional (CDQP)', 'AWS Certified Data Analytics'], 'hobbies': ['Программирование', 'Путешествия', 'Фотография'], 'portfolio': [{'name': 'Проект по интеграции данных', 'link': 'github.com/abramovborislav/data-integration-project', 'description': 'Цель: Интеграция данных из различных источников для создания единого хранилища. Роль: Разработка ETL-процессов и автоматизация тестирования. Технологии: Python, SQL, AWS. Результат: Увеличение точности данных на 25% и ускорение процессов на 30%.'}, {'name': 'Система мониторинга данных', 'link': 'github.com/abramovborislav/data-monitoring-system', 'description': 'Цель: Создание системы для мониторинга и анализа качества данных. Роль: Разработка и внедрение. Технологии: Python, SQL, Grafana. Результат: Снижение количества ошибок на 30% и улучшение производительности процессов.'}]}\n"
     ]
    }
   ],
   "source": [
    "from pathlib import Path\n",
    "\n",
    "import requests\n",
    "\n",
    "\n",
    "url = \"http://localhost:8002/parse_resume\"\n",
    "resume_path = \"data/resumes_pdf/абрамов_борислав_трофимович_data_quality_engineer.pdf\"\n",
    "\n",
    "with Path(resume_path).open(\"rb\") as f:\n",
    "    files = {\"file\": (resume_path, f, \"application/pdf\")}\n",
    "    response = requests.post(url, files=files, timeout=30)\n",
    "\n",
    "\n",
    "print(response.status_code)\n",
    "print(response.json())"
   ]
  },
  {
   "cell_type": "code",
   "execution_count": 13,
   "metadata": {},
   "outputs": [],
   "source": [
    "parsed_resume = response.json()\n"
   ]
  }
 ],
 "metadata": {
  "kernelspec": {
   "display_name": ".venv",
   "language": "python",
   "name": "python3"
  },
  "language_info": {
   "codemirror_mode": {
    "name": "ipython",
    "version": 3
   },
   "file_extension": ".py",
   "mimetype": "text/x-python",
   "name": "python",
   "nbconvert_exporter": "python",
   "pygments_lexer": "ipython3",
   "version": "3.13.3"
  }
 },
 "nbformat": 4,
 "nbformat_minor": 2
}
