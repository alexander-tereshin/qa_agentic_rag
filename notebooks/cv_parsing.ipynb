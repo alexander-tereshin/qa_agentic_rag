{
 "cells": [
  {
   "cell_type": "code",
   "execution_count": 3,
   "metadata": {},
   "outputs": [
    {
     "data": {
      "text/plain": [
       "'/Users/ruathar/.cache/kagglehub/datasets/snehaanbhawal/resume-dataset/versions/1'"
      ]
     },
     "execution_count": 3,
     "metadata": {},
     "output_type": "execute_result"
    }
   ],
   "source": [
    "import kagglehub\n",
    "from dotenv import load_dotenv\n",
    "\n",
    "\n",
    "load_dotenv()\n",
    "\n",
    "kagglehub.dataset_download(\"snehaanbhawal/resume-dataset\")"
   ]
  },
  {
   "cell_type": "code",
   "execution_count": 7,
   "metadata": {},
   "outputs": [
    {
     "name": "stdout",
     "output_type": "stream",
     "text": [
      "\u001b[31mSignature:\u001b[39m\n",
      "kagglehub.dataset_download(\n",
      "    handle: str,\n",
      "    path: Optional[str] = \u001b[38;5;28;01mNone\u001b[39;00m,\n",
      "    *,\n",
      "    force_download: Optional[bool] = \u001b[38;5;28;01mFalse\u001b[39;00m,\n",
      ") -> str\n",
      "\u001b[31mSource:\u001b[39m   \n",
      "\u001b[38;5;28;01mdef\u001b[39;00m dataset_download(handle: str, path: Optional[str] = \u001b[38;5;28;01mNone\u001b[39;00m, *, force_download: Optional[bool] = \u001b[38;5;28;01mFalse\u001b[39;00m) -> str:\n",
      "    \u001b[33m\"\"\"Download dataset files\u001b[39m\n",
      "\u001b[33m    Args:\u001b[39m\n",
      "\u001b[33m        handle: (string) the dataset handle\u001b[39m\n",
      "\u001b[33m        path: (string) Optional path to a file within a dataset\u001b[39m\n",
      "\u001b[33m        force_download: (bool) Optional flag to force download a dataset, even if it's cached\u001b[39m\n",
      "\u001b[33m    Returns:\u001b[39m\n",
      "\u001b[33m        A string requesting the path to the requested dataset files.\u001b[39m\n",
      "\u001b[33m    \"\"\"\u001b[39m\n",
      "    h = parse_dataset_handle(handle)\n",
      "    logger.info(f\"Downloading Dataset: {h.to_url()} ...\", extra={**EXTRA_CONSOLE_BLOCK})\n",
      "    path, _ = registry.dataset_resolver(h, path, force_download=force_download)\n",
      "    \u001b[38;5;28;01mreturn\u001b[39;00m path\n",
      "\u001b[31mFile:\u001b[39m      ~/Developer/hr_base_qa/.venv/lib/python3.13/site-packages/kagglehub/datasets.py\n",
      "\u001b[31mType:\u001b[39m      function"
     ]
    }
   ],
   "source": [
    "??kagglehub.dataset_download"
   ]
  },
  {
   "cell_type": "code",
   "execution_count": null,
   "metadata": {},
   "outputs": [],
   "source": []
  },
  {
   "cell_type": "code",
   "execution_count": 13,
   "metadata": {},
   "outputs": [
    {
     "data": {
      "text/plain": [
       "'/Users/ruathar/.cache/kagglehub/datasets/snehaanbhawal/resume-dataset/versions/1'"
      ]
     },
     "execution_count": 13,
     "metadata": {},
     "output_type": "execute_result"
    }
   ],
   "source": [
    "path\n",
    "\n",
    "\n",
    "\n",
    "# Download latest version\n",
    "\n",
    "\n",
    "# print(\"Path to dataset files:\", path)\n"
   ]
  },
  {
   "cell_type": "code",
   "execution_count": null,
   "metadata": {},
   "outputs": [],
   "source": []
  },
  {
   "cell_type": "code",
   "execution_count": null,
   "metadata": {},
   "outputs": [],
   "source": []
  }
 ],
 "metadata": {
  "kernelspec": {
   "display_name": ".venv",
   "language": "python",
   "name": "python3"
  },
  "language_info": {
   "codemirror_mode": {
    "name": "ipython",
    "version": 3
   },
   "file_extension": ".py",
   "mimetype": "text/x-python",
   "name": "python",
   "nbconvert_exporter": "python",
   "pygments_lexer": "ipython3",
   "version": "3.13.1"
  }
 },
 "nbformat": 4,
 "nbformat_minor": 2
}
