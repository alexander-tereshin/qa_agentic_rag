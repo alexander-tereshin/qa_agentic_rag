{
 "cells": [
  {
   "cell_type": "code",
   "execution_count": 1,
   "metadata": {},
   "outputs": [],
   "source": [
    "import json\n",
    "import os\n",
    "from typing import Any\n",
    "\n",
    "import psycopg2\n",
    "import sqlparse\n",
    "from smolagents import OpenAIServerModel, ToolCallingAgent, tool\n",
    "\n",
    "\n",
    "db_params = {\n",
    "    \"host\": \"127.0.0.1\",\n",
    "    \"port\": os.environ[\"POSTGRES_PORT\"],\n",
    "    \"database\": os.environ[\"POSTGRES_DB\"],\n",
    "    \"user\": os.environ[\"POSTGRES_USER\"],\n",
    "    \"password\": os.environ[\"POSTGRES_PASSWORD\"],\n",
    "}\n"
   ]
  },
  {
   "cell_type": "code",
   "execution_count": 2,
   "metadata": {},
   "outputs": [],
   "source": [
    "@tool\n",
    "def get_unique_column_values(column: str) -> str:\n",
    "    \"\"\"Return a sorted list of unique values from a given column in the 'resumes' table.\n",
    "\n",
    "    Args:\n",
    "        column (str): The column name to extract unique values from.\n",
    "\n",
    "    Returns:\n",
    "        str: JSON-encoded list of unique values or error message if the column is invalid.\n",
    "\n",
    "    \"\"\"\n",
    "    allowed_columns = {\"id\", \"name\", \"gender\", \"title\", \"summary\", \"languages\", \"skills\", \"certifications\", \"hobbies\"}\n",
    "\n",
    "    if column not in allowed_columns:\n",
    "        return f\"Error: Column '{column}' is not allowed for unique value extraction.\"\n",
    "\n",
    "    query = f'SELECT DISTINCT \"{column}\" FROM resumes ORDER BY \"{column}\"'  # noqa: S608\n",
    "\n",
    "    conn = None\n",
    "    try:\n",
    "        conn = psycopg2.connect(**db_params)\n",
    "        with conn.cursor() as cursor:\n",
    "            cursor.execute(query)\n",
    "            values = cursor.fetchall()\n",
    "            return json.dumps([v[0] for v in values], ensure_ascii=False)\n",
    "    except psycopg2.Error as e:\n",
    "        return f\"Database error: {e!s}\"\n",
    "    finally:\n",
    "        if conn:\n",
    "            conn.close()\n",
    "\n",
    "\n",
    "@tool\n",
    "def validate_sql_query(query: str) -> str:\n",
    "    \"\"\"Check the syntax of a SQL query without executing it on the table. Useful for safe validation.\n",
    "\n",
    "    Args:\n",
    "        query (str): The SQL query to validate.\n",
    "\n",
    "    Returns:\n",
    "        str: A message indicating whether the query is syntactically valid or describing the syntax error.\n",
    "\n",
    "    \"\"\"\n",
    "    conn = psycopg2.connect(**db_params)\n",
    "    try:\n",
    "        with conn.cursor() as cursor:\n",
    "            cursor.execute(\"EXPLAIN \" + query)\n",
    "    except psycopg2.Error as e:\n",
    "        return f\"Ошибка в SQL-запросе: {e!s}\"\n",
    "    finally:\n",
    "        conn.close()\n",
    "    return \"Запрос синтаксически корректен.\"\n",
    "\n",
    "\n",
    "@tool\n",
    "def get_unique_column_values(column: str) -> str:\n",
    "    \"\"\"Return a sorted list of unique values from a given column in the 'resumes' table.\n",
    "\n",
    "    Args:\n",
    "        column (str): The column name to extract unique values from.\n",
    "\n",
    "    Returns:\n",
    "        str: JSON-encoded list of unique values or error message if the column is invalid.\n",
    "\n",
    "    \"\"\"\n",
    "    allowed_columns = {\"id\", \"name\", \"gender\", \"title\", \"summary\", \"languages\", \"skills\", \"certifications\", \"hobbies\"}\n",
    "\n",
    "    if column not in allowed_columns:\n",
    "        return f\"Error: Column '{column}' is not allowed for unique value extraction.\"\n",
    "\n",
    "    query = f'SELECT DISTINCT \"{column}\" FROM resumes ORDER BY \"{column}\"'  # noqa: S608\n",
    "\n",
    "    conn = None\n",
    "    try:\n",
    "        conn = psycopg2.connect(**db_params)\n",
    "        with conn.cursor() as cursor:\n",
    "            cursor.execute(query)\n",
    "            values = cursor.fetchall()\n",
    "            return json.dumps([v[0] for v in values], ensure_ascii=False)\n",
    "    except psycopg2.Error as e:\n",
    "        return f\"Database error: {e!s}\"\n",
    "    finally:\n",
    "        if conn:\n",
    "            conn.close()\n",
    "\n",
    "\n",
    "@tool\n",
    "def sql_engine(query: str) -> str:\n",
    "    \"\"\"Execute validated SQL SELECT queries on the 'resumes' table and returns results as a JSON string.\n",
    "\n",
    "    Table Schema for 'resumes':\n",
    "        - id (integer)              - primary key\n",
    "        - contact_info (jsonb)      - {\"email\": \"...\", \"phone\": \"...\", ...}\n",
    "        - experience (jsonb)        - list of work-experience blocks\n",
    "        - education (jsonb)         - list of education blocks\n",
    "        - portfolio (jsonb)         - list of projects {\"name\", \"link\", \"description\"}\n",
    "        - languages (ARRAY)         - e.g. ['Русский – родной', 'Английский – B2']\n",
    "        - skills (ARRAY)            - e.g. ['Kubernetes', 'Python']\n",
    "        - certifications (ARRAY)    - certificate names\n",
    "        - hobbies (ARRAY)           - list of hobbies\n",
    "        - name (text)               - full name\n",
    "        - gender (text)             - gender\n",
    "        - title (text)              - current/target job title\n",
    "        - summary (text)            - resume summary/about section\n",
    "\n",
    "    Examples:\n",
    "        >>> sql_engine(\\'''\n",
    "            SELECT id, name, title\n",
    "            FROM resumes\n",
    "            WHERE 'Kubernetes' = ANY(skills)\n",
    "            ORDER BY id\n",
    "            LIMIT 5;\n",
    "        \\''')\n",
    "        \"[ [4, 'Маргарита Кирилловна Дорофеева', 'DevOps Engineer'], ... ]\"\n",
    "\n",
    "    Important:\n",
    "        • Only SELECT queries are allowed.\n",
    "        • Never pass raw user input directly without validation.\n",
    "        • Avoid requesting more than 1000 rows per call.\n",
    "        • Double-quote column names if they contain uppercase or non-ASCII characters.\n",
    "\n",
    "    Args:\n",
    "        query (str): A valid SQL SELECT query.\n",
    "\n",
    "    Returns:\n",
    "        str:\n",
    "            - JSON-encoded list of result rows for SELECT queries.\n",
    "            - Or an error message string for invalid or forbidden queries.\n",
    "\n",
    "    \"\"\"\n",
    "    # GUARDRAIL\n",
    "    try:\n",
    "        parsed = sqlparse.parse(query)\n",
    "        if len(parsed) != 1:\n",
    "            return \"Error: Only one SQL statement is allowed.\"\n",
    "\n",
    "        stmt = parsed[0]\n",
    "        if stmt.get_type() != \"SELECT\":\n",
    "            return \"Error: Only SELECT queries are permitted.\"\n",
    "\n",
    "    except Exception as e:  # noqa: BLE001\n",
    "        return f\"Error while parsing SQL query: {e!s}\"\n",
    "\n",
    "    ###\n",
    "    output = \"\"\n",
    "    conn = None\n",
    "    try:\n",
    "        conn = psycopg2.connect(**db_params)\n",
    "        with conn.cursor() as cursor:\n",
    "            cursor.execute(query)\n",
    "            try:\n",
    "                rows: list[tuple[Any, ...]] = cursor.fetchall()\n",
    "                output = rows\n",
    "            except psycopg2.ProgrammingError:\n",
    "                output = \"Query executed successfully, but no results to fetch.\"\n",
    "\n",
    "        conn.commit()\n",
    "\n",
    "    except psycopg2.errors.SyntaxError as e:\n",
    "        output = f\"Syntax error in SQL query: {e!s}\"\n",
    "    except psycopg2.Error as e:\n",
    "        output = f\"Database error: {e!s}\"\n",
    "    finally:\n",
    "        if conn:\n",
    "            conn.close()\n",
    "\n",
    "    return json.dumps(output, ensure_ascii=False)\n"
   ]
  },
  {
   "cell_type": "code",
   "execution_count": 3,
   "metadata": {},
   "outputs": [],
   "source": [
    "model = OpenAIServerModel(\n",
    "    model_id=os.getenv(\"AGENT_LLM_API_MODEL\"),\n",
    "    api_base=os.getenv(\"AGENT_LLM_API_URL\"),\n",
    "    api_key=os.getenv(\"AGENT_LLM_API_TOKEN\"),\n",
    "    flatten_messages_as_text=True,\n",
    ")"
   ]
  },
  {
   "cell_type": "code",
   "execution_count": 8,
   "metadata": {},
   "outputs": [],
   "source": [
    "agent = ToolCallingAgent(\n",
    "    tools=[sql_engine, get_unique_column_values],\n",
    "    model=model,\n",
    "    planning_interval=1,\n",
    "    description=(\n",
    "        \"You are an HR assistant that helps users analyze and explore resume data from a database.\\n\"\n",
    "        \"You can execute validated SQL SELECT queries using `sql_engine`\"\n",
    "        \"NEVER assume or hallucinate any data. Always rely on actual results from the database tool `sql_engine.\\n\"\n",
    "        \"Use short, factual answers based strictly on the database output.\\n\"\n",
    "        \"It is allowed to small-talk\"\n",
    "    ),\n",
    "    max_steps=5,\n",
    ")"
   ]
  },
  {
   "cell_type": "code",
   "execution_count": 9,
   "metadata": {},
   "outputs": [
    {
     "data": {
      "text/html": [
       "<pre style=\"white-space:pre;overflow-x:auto;line-height:normal;font-family:Menlo,'DejaVu Sans Mono',consolas,'Courier New',monospace\"><span style=\"color: #d4b702; text-decoration-color: #d4b702\">╭──────────────────────────────────────────────────── </span><span style=\"color: #d4b702; text-decoration-color: #d4b702; font-weight: bold\">New run</span><span style=\"color: #d4b702; text-decoration-color: #d4b702\"> ────────────────────────────────────────────────────╮</span>\n",
       "<span style=\"color: #d4b702; text-decoration-color: #d4b702\">│</span>                                                                                                                 <span style=\"color: #d4b702; text-decoration-color: #d4b702\">│</span>\n",
       "<span style=\"color: #d4b702; text-decoration-color: #d4b702\">│</span> <span style=\"font-weight: bold\">как дела?</span>                                                                                                       <span style=\"color: #d4b702; text-decoration-color: #d4b702\">│</span>\n",
       "<span style=\"color: #d4b702; text-decoration-color: #d4b702\">│</span>                                                                                                                 <span style=\"color: #d4b702; text-decoration-color: #d4b702\">│</span>\n",
       "<span style=\"color: #d4b702; text-decoration-color: #d4b702\">╰─ OpenAIServerModel - large ─────────────────────────────────────────────────────────────────────────────────────╯</span>\n",
       "</pre>\n"
      ],
      "text/plain": [
       "\u001b[38;2;212;183;2m╭─\u001b[0m\u001b[38;2;212;183;2m───────────────────────────────────────────────────\u001b[0m\u001b[38;2;212;183;2m \u001b[0m\u001b[1;38;2;212;183;2mNew run\u001b[0m\u001b[38;2;212;183;2m \u001b[0m\u001b[38;2;212;183;2m───────────────────────────────────────────────────\u001b[0m\u001b[38;2;212;183;2m─╮\u001b[0m\n",
       "\u001b[38;2;212;183;2m│\u001b[0m                                                                                                                 \u001b[38;2;212;183;2m│\u001b[0m\n",
       "\u001b[38;2;212;183;2m│\u001b[0m \u001b[1mкак дела?\u001b[0m                                                                                                       \u001b[38;2;212;183;2m│\u001b[0m\n",
       "\u001b[38;2;212;183;2m│\u001b[0m                                                                                                                 \u001b[38;2;212;183;2m│\u001b[0m\n",
       "\u001b[38;2;212;183;2m╰─\u001b[0m\u001b[38;2;212;183;2m OpenAIServerModel - large \u001b[0m\u001b[38;2;212;183;2m────────────────────────────────────────────────────────────────────────────────────\u001b[0m\u001b[38;2;212;183;2m─╯\u001b[0m\n"
      ]
     },
     "metadata": {},
     "output_type": "display_data"
    },
    {
     "data": {
      "text/html": [
       "<pre style=\"white-space:pre;overflow-x:auto;line-height:normal;font-family:Menlo,'DejaVu Sans Mono',consolas,'Courier New',monospace\">────────────────────────────────────────────────── <span style=\"font-weight: bold\">Initial plan</span> ───────────────────────────────────────────────────\n",
       "Here are the facts I know and the plan of action that I will follow to solve the task:\n",
       "```\n",
       "## 1. Facts survey\n",
       "\n",
       "### 1.1. Facts given in the task\n",
       "- The task is a simple greeting in Russian: \"как дела?\" which translates to \"How are you?\" in English.\n",
       "\n",
       "### 1.2. Facts to look up\n",
       "- No specific facts need to be looked up for this task, as it is a simple greeting and does not require any \n",
       "additional information.\n",
       "\n",
       "### 1.3. Facts to derive\n",
       "- No facts need to be derived for this task, as it does not involve any logical reasoning or computation.\n",
       "\n",
       "## 2. Plan\n",
       "1. Recognize the greeting \"как дела?\" as a common Russian phrase.\n",
       "2. Respond to the greeting in a polite and friendly manner.\n",
       "3. Provide a simple and direct response to the greeting.\n",
       "\n",
       "\n",
       "```\n",
       "</pre>\n"
      ],
      "text/plain": [
       "────────────────────────────────────────────────── \u001b[1mInitial plan\u001b[0m ───────────────────────────────────────────────────\n",
       "Here are the facts I know and the plan of action that I will follow to solve the task:\n",
       "```\n",
       "## 1. Facts survey\n",
       "\n",
       "### 1.1. Facts given in the task\n",
       "- The task is a simple greeting in Russian: \"как дела?\" which translates to \"How are you?\" in English.\n",
       "\n",
       "### 1.2. Facts to look up\n",
       "- No specific facts need to be looked up for this task, as it is a simple greeting and does not require any \n",
       "additional information.\n",
       "\n",
       "### 1.3. Facts to derive\n",
       "- No facts need to be derived for this task, as it does not involve any logical reasoning or computation.\n",
       "\n",
       "## 2. Plan\n",
       "1. Recognize the greeting \"как дела?\" as a common Russian phrase.\n",
       "2. Respond to the greeting in a polite and friendly manner.\n",
       "3. Provide a simple and direct response to the greeting.\n",
       "\n",
       "\n",
       "```\n"
      ]
     },
     "metadata": {},
     "output_type": "display_data"
    },
    {
     "data": {
      "text/html": [
       "<pre style=\"white-space:pre;overflow-x:auto;line-height:normal;font-family:Menlo,'DejaVu Sans Mono',consolas,'Courier New',monospace\"><span style=\"color: #d4b702; text-decoration-color: #d4b702\">━━━━━━━━━━━━━━━━━━━━━━━━━━━━━━━━━━━━━━━━━━━━━━━━━━━━━ </span><span style=\"font-weight: bold\">Step </span><span style=\"color: #008080; text-decoration-color: #008080; font-weight: bold\">1</span><span style=\"color: #d4b702; text-decoration-color: #d4b702\"> ━━━━━━━━━━━━━━━━━━━━━━━━━━━━━━━━━━━━━━━━━━━━━━━━━━━━━━</span>\n",
       "</pre>\n"
      ],
      "text/plain": [
       "\u001b[38;2;212;183;2m━━━━━━━━━━━━━━━━━━━━━━━━━━━━━━━━━━━━━━━━━━━━━━━━━━━━━ \u001b[0m\u001b[1mStep \u001b[0m\u001b[1;36m1\u001b[0m\u001b[38;2;212;183;2m ━━━━━━━━━━━━━━━━━━━━━━━━━━━━━━━━━━━━━━━━━━━━━━━━━━━━━━\u001b[0m\n"
      ]
     },
     "metadata": {},
     "output_type": "display_data"
    },
    {
     "data": {
      "text/html": [
       "<pre style=\"white-space:pre;overflow-x:auto;line-height:normal;font-family:Menlo,'DejaVu Sans Mono',consolas,'Courier New',monospace\">╭─────────────────────────────────────────────────────────────────────────────────────────────────────────────────╮\n",
       "│ Calling tool: 'final_answer' with arguments: {'answer': 'Хорошо, спасибо! А у вас как дела?'}                   │\n",
       "╰─────────────────────────────────────────────────────────────────────────────────────────────────────────────────╯\n",
       "</pre>\n"
      ],
      "text/plain": [
       "╭─────────────────────────────────────────────────────────────────────────────────────────────────────────────────╮\n",
       "│ Calling tool: 'final_answer' with arguments: {'answer': 'Хорошо, спасибо! А у вас как дела?'}                   │\n",
       "╰─────────────────────────────────────────────────────────────────────────────────────────────────────────────────╯\n"
      ]
     },
     "metadata": {},
     "output_type": "display_data"
    },
    {
     "data": {
      "text/html": [
       "<pre style=\"white-space:pre;overflow-x:auto;line-height:normal;font-family:Menlo,'DejaVu Sans Mono',consolas,'Courier New',monospace\"><span style=\"color: #d4b702; text-decoration-color: #d4b702; font-weight: bold\">Final answer: Хорошо, спасибо! А у вас как дела?</span>\n",
       "</pre>\n"
      ],
      "text/plain": [
       "\u001b[1;38;2;212;183;2mFinal answer: Хорошо, спасибо! А у вас как дела?\u001b[0m\n"
      ]
     },
     "metadata": {},
     "output_type": "display_data"
    },
    {
     "data": {
      "text/html": [
       "<pre style=\"white-space:pre;overflow-x:auto;line-height:normal;font-family:Menlo,'DejaVu Sans Mono',consolas,'Courier New',monospace\"><span style=\"color: #7f7f7f; text-decoration-color: #7f7f7f\">[Step 1: Duration 6.24 seconds| Input tokens: 2,145 | Output tokens: 35]</span>\n",
       "</pre>\n"
      ],
      "text/plain": [
       "\u001b[2m[Step 1: Duration 6.24 seconds| Input tokens: 2,145 | Output tokens: 35]\u001b[0m\n"
      ]
     },
     "metadata": {},
     "output_type": "display_data"
    },
    {
     "data": {
      "text/plain": [
       "'Хорошо, спасибо! А у вас как дела?'"
      ]
     },
     "execution_count": 9,
     "metadata": {},
     "output_type": "execute_result"
    }
   ],
   "source": [
    "agent.run(\"как дела?\")"
   ]
  }
 ],
 "metadata": {
  "kernelspec": {
   "display_name": ".venv",
   "language": "python",
   "name": "python3"
  },
  "language_info": {
   "codemirror_mode": {
    "name": "ipython",
    "version": 3
   },
   "file_extension": ".py",
   "mimetype": "text/x-python",
   "name": "python",
   "nbconvert_exporter": "python",
   "pygments_lexer": "ipython3",
   "version": "3.13.3"
  }
 },
 "nbformat": 4,
 "nbformat_minor": 2
}
